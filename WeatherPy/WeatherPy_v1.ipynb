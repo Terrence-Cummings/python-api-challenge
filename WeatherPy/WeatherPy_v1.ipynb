{
 "cells": [
  {
   "cell_type": "markdown",
   "metadata": {},
   "source": [
    "# WeatherPy\n",
    "----\n",
    "\n",
    "#### Note\n",
    "* Instructions have been included for each segment. You do not have to follow them exactly, but they are included to help you think through the steps."
   ],
   "execution_count": null,
   "outputs": []
  },
  {
   "cell_type": "code",
   "execution_count": 1,
   "metadata": {
    "scrolled": true
   },
   "outputs": [],
   "source": [
    "# Dependencies and Setup\n",
    "import matplotlib.pyplot as plt\n",
    "import pandas as pd\n",
    "import numpy as np\n",
    "import requests\n",
    "import time\n",
    "from scipy.stats import linregress\n",
    "import requests\n",
    "import json\n",
    "from pprint import pprint\n",
    "\n",
    "# Import API key\n",
    "from api_keys import weather_api_key\n",
    "\n",
    "# Incorporated citipy to determine city based on latitude and longitude\n",
    "from citipy import citipy\n",
    "\n",
    "# Output File (CSV)\n",
    "output_data_file = \"output_data/cities.csv\"\n",
    "\n",
    "# Range of latitudes and longitudes\n",
    "lat_range = (-90, 90)\n",
    "lng_range = (-180, 180)\n",
    ""
   ]
  },
  {
   "cell_type": "markdown",
   "metadata": {},
   "source": [
    "## Generate Cities List"
   ],
   "execution_count": null,
   "outputs": []
  },
  {
   "cell_type": "code",
   "execution_count": 2,
   "metadata": {
    "tags": [
     "outputPrepend"
    ]
   },
   "outputs": [],
   "source": [
    "#Initialize empty lists for: Lat/Lng pairs, cities, countries, latitude, and longitude (the original pairs used to find the \"nearest city\"). Note this is NOT the actual lat/lng of the city, this is captured later from the OpenWeather API\n",
    "\n",
    "lat_lngs = []\n",
    "cities = []\n",
    "countries=[]\n",
    "orig_latitude=[]\n",
    "orig_longitude=[]\n",
    "\n",
    "\n",
    "# Create a set of random lat and lng combinations\n",
    "lats = np.random.uniform(lat_range[0], lat_range[1], size=50)\n",
    "lngs = np.random.uniform(lng_range[0], lng_range[1], size=50)\n",
    "\n",
    "#Zip lat and lon for use by citypy call\n",
    "lat_lngs = zip(lats, lngs)\n",
    "\n",
    "# Identify nearest city for each lat, lng combination using citipy\n",
    "for lat_lng in lat_lngs:\n",
    "    city = citipy.nearest_city(lat_lng[0], lat_lng[1]).city_name\n",
    "    country = citipy.nearest_city(lat_lng[0], lat_lng[1]).country_code\n",
    "    #Check to ensure no duplicates\n",
    "    if city not in cities:\n",
    "        cities.append(city)\n",
    "        countries.append(country)\n",
    "        orig_latitude.append(lat_lng[0])\n",
    "        orig_longitude.append(lat_lng[1])\n",
    "\n",
    "#Zip city, country, lat, lon for use in Open Weather API call together for use in city\n",
    "city_country_lat_lon = zip(cities, countries, orig_latitude, orig_longitude)"
   ]
  },
  {
   "cell_type": "markdown",
   "metadata": {},
   "source": [
    "### Perform API Calls\n",
    "* Perform a weather check on each city using a series of successive API calls.\n",
    "* Include a print log of each city as it's being processed (with the city number and city name).\n",
    "\n",
    "Temperature (F) vs. Latitude\n",
    "\n",
    "Humidity (%) vs. Latitude\n",
    "\n",
    "Cloudiness (%) vs. Latitude\n",
    "\n",
    "Wind Speed (mph) vs. Latitude\n",
    "\n"
   ],
   "execution_count": null,
   "outputs": []
  },
  {
   "cell_type": "code",
   "execution_count": 3,
   "metadata": {},
   "outputs": [
    {
     "output_type": "stream",
     "name": "stdout",
     "text": "taolanaro not found at OpenWeather API!\n2155415: new norfolk found and added!\n3366880: hermanus found and added!\n5972291: havre-saint-pierre found and added!\n2629833: husavik found and added!\n5799571: kelso found and added!\n5131638: plainview found and added!\namderma not found at OpenWeather API!\n1706317: limpapa found and added!\n5866063: kenai found and added!\n2186363: muriwai beach found and added!\n3874787: punta arenas found and added!\nattawapiskat not found at OpenWeather API!\nkaraul not found at OpenWeather API!\n2206939: bluff found and added!\n408689: lardos found and added!\n4020109: atuona found and added!\n1168700: ormara found and added!\n3831208: qaanaaq found and added!\n2123814: leningradskiy found and added!\n3471451: arraial do cabo found and added!\n2163355: hobart found and added!\n2527087: tiznit found and added!\n5848280: kapaa found and added!\n2075265: busselton found and added!\n3369157: cape town found and added!\n3370903: jamestown found and added!\n5880054: barrow found and added!\n3652764: puerto ayora found and added!\n6201424: mataura found and added!\n2156643: mount gambier found and added!\n3372964: lagoa found and added!\n3833367: ushuaia found and added!\n935215: saint-philippe found and added!\n5855927: hilo found and added!\n1337606: eydhafushi found and added!\nbelushya guba not found at OpenWeather API!\n4030556: rikitea found and added!\n2160063: codrington found and added!\n1082243: ambilobe found and added!\n2015306: tiksi found and added!\n2094342: kavieng found and added!\n5856516: ahuimanu found and added!\n6111862: port hardy found and added!\n\nFINISHED PROCESSING WEATHER APIs\n"
    }
   ],
   "source": [
    "#Example of OpenWeather API call http://api.openweathermap.org/data/2.5/weather?q=London,uk&APPID=973d76a9421d572f47622e44bcca1876\n",
    "#http://api.openweathermap.org/data/2.5/weather?q={city name},{state},{country code}&units=imperial&appid={your api key}\n",
    "\n",
    "\n",
    "#Initialize lists to capture the stats for each city\n",
    "city_ID=[]\n",
    "city_temp=[]\n",
    "city_humidity=[]\n",
    "city_clouds_pct=[]\n",
    "city_windspeed=[]\n",
    "\n",
    "#These are the actual lat and lon for the city (not those used in find the nearest city in citipy)\n",
    "city_latitude=[]\n",
    "city_longitude=[]\n",
    "cities = []\n",
    "countries=[]\n",
    "\n",
    "#These are the orig lat and lon used by citipy to find the nearest city. Captured just for comparison with the actual.\n",
    "orig_latitude=[]\n",
    "orig_longitude=[]\n",
    "\n",
    "#Loop through all the cities captured by citipy\n",
    "for city_loop, country_loop, lat_loop, lon_loop in city_country_lat_lon:\n",
    "    city_name = city_loop\n",
    "    country_name = country_loop\n",
    "    #Set the URL using the city, country, api key\n",
    "    url = 'http://api.openweathermap.org/data/2.5/weather?q='+city_name+',,'+country_name+'&units=imperial&appid='+weather_api_key\n",
    "    \n",
    "    #Capture the request from OpenWeather API\n",
    "    res = requests.get(url)\n",
    "    #Check to ensure the response is valid, if not go to the next item in the for loop\n",
    "    if res.status_code != 200:\n",
    "        #Print a progress indicator to the screen    \n",
    "        print(city_name+' not found at OpenWeather API!')\n",
    "        continue\n",
    "    #Capture the valid response in json\n",
    "    response = res.json()\n",
    "    #Print a progress indicator to the screen\n",
    "    print(str(response['id'])+\": \"+city_name+' found and added!')\n",
    "    \n",
    "    #Append values to all the various lists to capture the city data\n",
    "    city_ID.append(response['id'])\n",
    "    cities.append(city_name)\n",
    "    countries.append(country_name)\n",
    "    orig_latitude.append(lat_loop)\n",
    "    orig_longitude.append(lon_loop)\n",
    "    city_temp.append(response['main']['temp'])\n",
    "    city_humidity.append(response['main']['humidity'])\n",
    "    city_clouds_pct.append(response['clouds']['all'])\n",
    "    city_windspeed.append(response['wind']['speed'])\n",
    "    city_latitude.append(response['coord']['lat'])\n",
    "    city_longitude.append(response['coord']['lon'])\n",
    "\n",
    "#Print an indicator that the Open Weather API and data capture process has finished\n",
    "print('')\n",
    "print('FINISHED PROCESSING WEATHER APIs')"
   ]
  },
  {
   "cell_type": "markdown",
   "metadata": {},
   "source": [
    "### Convert Raw Data to DataFrame\n",
    "* Export the city data into a .csv.\n",
    "* Display the DataFrame"
   ],
   "execution_count": null,
   "outputs": []
  },
  {
   "cell_type": "code",
   "execution_count": 4,
   "metadata": {},
   "outputs": [
    {
     "output_type": "stream",
     "name": "stdout",
     "text": "The total number of cities added is 39\n"
    },
    {
     "output_type": "execute_result",
     "data": {
      "text/plain": "    City ID                City Country   Orig Lat    Orig Lon  Act Lat  \\\n0   2155415         new norfolk      au -88.211703  125.480130   -42.78   \n1   3366880            hermanus      za -69.819671   12.505800   -34.42   \n2   5972291  havre-saint-pierre      ca  50.314150  -61.060529    50.23   \n3   2629833             husavik      is  71.751826  -14.993997    66.04   \n4   5799571               kelso      us  46.030809 -122.889346    46.15   \n5   5131638           plainview      us  33.795606 -100.784948    40.78   \n6   1706317             limpapa      ph   7.335229  121.333419     7.12   \n7   5866063               kenai      us  62.159202 -152.384253    60.55   \n8   2186363       muriwai beach      nz -37.346103  174.147155   -36.82   \n9   3874787        punta arenas      cl -54.746063  -86.443001   -53.15   \n10  2206939               bluff      nz -73.637817  172.454124   -46.60   \n11   408689              lardos      gr  33.836658   29.333347    36.09   \n12  4020109              atuona      pf -13.124056 -127.011480    -9.80   \n13  1168700              ormara      pk  23.812769   64.742054    25.21   \n14  3831208             qaanaaq      gl  86.189062  -84.202436    77.48   \n15  2123814       leningradskiy      ru  89.541002  175.445680    69.38   \n16  3471451     arraial do cabo      br -30.965287  -40.221192   -22.97   \n17  2163355              hobart      au -67.956234  138.450293   -42.88   \n18  2527087              tiznit      ma  26.879687   -8.155225    29.58   \n19  5848280               kapaa      us  12.748751 -174.143790    22.08   \n20  2075265           busselton      au -59.221614   99.592283   -33.65   \n21  3369157           cape town      za -48.137380    1.369566   -33.93   \n22  3370903           jamestown      sh -31.813651   -5.411442   -15.94   \n23  5880054              barrow      us  80.574654 -145.965492    71.29   \n24  3652764        puerto ayora      ec   6.002103  -93.751610    -0.74   \n25  6201424             mataura      pf -70.690266 -162.787005   -46.19   \n26  2156643       mount gambier      au -37.376263  140.764413   -37.83   \n27  3372964               lagoa      pt  43.821543  -31.202233    39.05   \n28  3833367             ushuaia      ar -78.035693  -48.230446   -54.80   \n29   935215      saint-philippe      re -66.104613   74.908947   -21.36   \n30  5855927                hilo      us  30.742012 -146.342180    19.73   \n31  1337606          eydhafushi      mv   4.816294   73.253518     5.10   \n32  4030556             rikitea      pf -42.041421 -112.090555   -23.12   \n33  2160063          codrington      ag  24.652867  -55.521973   -28.95   \n34  1082243            ambilobe      mg  -8.635954   49.837624   -13.20   \n35  2015306               tiksi      ru  78.656790  127.654687    71.69   \n36  2094342             kavieng      pg   5.249574  154.193898    -2.57   \n37  5856516            ahuimanu      us  28.361534 -155.005020    21.44   \n38  6111862          port hardy      ca  44.667490 -135.607268    50.70   \n\n    Act Lon  Temperature (F)  Humidity  Cloudiness  Wind Speed  \n0    147.06            49.59        76          40       13.87  \n1     19.23            65.25        58          39        1.01  \n2    -63.60            28.40        46          75       14.99  \n3    -17.34            33.80        74          75       16.11  \n4   -122.91            36.68       100           1        1.63  \n5    -73.47            56.62        35           1        4.70  \n6    121.91            78.15        78           0        2.80  \n7   -151.26            10.60        71           1        4.70  \n8    174.45            58.75        82         100        3.36  \n9    -70.92            49.93        81          75        6.93  \n10   168.33            46.99        88          62        4.00  \n11    28.02            66.20        68          20       13.87  \n12  -139.03            82.35        76          47       17.54  \n13    64.64            82.02        51           0       12.19  \n14   -69.36            13.01        73          31        4.88  \n15   178.42             2.98        83          79        7.70  \n16   -42.03            80.60        78          40       10.29  \n17   147.33            50.07        76          40       13.87  \n18    -9.50            85.87        14          17        5.14  \n19  -159.32            65.25        93           1        6.93  \n20   115.33            70.75        38          98        4.23  \n21    18.42            65.05        48          20       14.99  \n22    -5.72            71.06        71           5       13.04  \n23  -156.79            -2.20        77           1       13.87  \n24   -90.35            82.09        88          75        3.36  \n25   168.86            46.99        88           8        4.00  \n26   140.77            53.60        81          90        5.82  \n27   -27.98            63.43        85           0       12.53  \n28   -68.30            48.20        70          20        4.97  \n29    55.77            75.33        69          23        8.05  \n30  -155.09            64.90        77           1        5.82  \n31    73.07            85.66        58          93        3.33  \n32  -134.97            76.32        80          72       14.45  \n33   153.24            63.36        88          90        4.70  \n34    49.05            77.67        85          15        0.85  \n35   128.87            22.05        97         100        4.25  \n36   150.80            83.55        74          69        4.70  \n37  -157.84            68.92        88          40        5.50  \n38  -127.42            35.60        76          20        8.05  ",
      "text/html": "<div>\n<style scoped>\n    .dataframe tbody tr th:only-of-type {\n        vertical-align: middle;\n    }\n\n    .dataframe tbody tr th {\n        vertical-align: top;\n    }\n\n    .dataframe thead th {\n        text-align: right;\n    }\n</style>\n<table border=\"1\" class=\"dataframe\">\n  <thead>\n    <tr style=\"text-align: right;\">\n      <th></th>\n      <th>City ID</th>\n      <th>City</th>\n      <th>Country</th>\n      <th>Orig Lat</th>\n      <th>Orig Lon</th>\n      <th>Act Lat</th>\n      <th>Act Lon</th>\n      <th>Temperature (F)</th>\n      <th>Humidity</th>\n      <th>Cloudiness</th>\n      <th>Wind Speed</th>\n    </tr>\n  </thead>\n  <tbody>\n    <tr>\n      <th>0</th>\n      <td>2155415</td>\n      <td>new norfolk</td>\n      <td>au</td>\n      <td>-88.211703</td>\n      <td>125.480130</td>\n      <td>-42.78</td>\n      <td>147.06</td>\n      <td>49.59</td>\n      <td>76</td>\n      <td>40</td>\n      <td>13.87</td>\n    </tr>\n    <tr>\n      <th>1</th>\n      <td>3366880</td>\n      <td>hermanus</td>\n      <td>za</td>\n      <td>-69.819671</td>\n      <td>12.505800</td>\n      <td>-34.42</td>\n      <td>19.23</td>\n      <td>65.25</td>\n      <td>58</td>\n      <td>39</td>\n      <td>1.01</td>\n    </tr>\n    <tr>\n      <th>2</th>\n      <td>5972291</td>\n      <td>havre-saint-pierre</td>\n      <td>ca</td>\n      <td>50.314150</td>\n      <td>-61.060529</td>\n      <td>50.23</td>\n      <td>-63.60</td>\n      <td>28.40</td>\n      <td>46</td>\n      <td>75</td>\n      <td>14.99</td>\n    </tr>\n    <tr>\n      <th>3</th>\n      <td>2629833</td>\n      <td>husavik</td>\n      <td>is</td>\n      <td>71.751826</td>\n      <td>-14.993997</td>\n      <td>66.04</td>\n      <td>-17.34</td>\n      <td>33.80</td>\n      <td>74</td>\n      <td>75</td>\n      <td>16.11</td>\n    </tr>\n    <tr>\n      <th>4</th>\n      <td>5799571</td>\n      <td>kelso</td>\n      <td>us</td>\n      <td>46.030809</td>\n      <td>-122.889346</td>\n      <td>46.15</td>\n      <td>-122.91</td>\n      <td>36.68</td>\n      <td>100</td>\n      <td>1</td>\n      <td>1.63</td>\n    </tr>\n    <tr>\n      <th>5</th>\n      <td>5131638</td>\n      <td>plainview</td>\n      <td>us</td>\n      <td>33.795606</td>\n      <td>-100.784948</td>\n      <td>40.78</td>\n      <td>-73.47</td>\n      <td>56.62</td>\n      <td>35</td>\n      <td>1</td>\n      <td>4.70</td>\n    </tr>\n    <tr>\n      <th>6</th>\n      <td>1706317</td>\n      <td>limpapa</td>\n      <td>ph</td>\n      <td>7.335229</td>\n      <td>121.333419</td>\n      <td>7.12</td>\n      <td>121.91</td>\n      <td>78.15</td>\n      <td>78</td>\n      <td>0</td>\n      <td>2.80</td>\n    </tr>\n    <tr>\n      <th>7</th>\n      <td>5866063</td>\n      <td>kenai</td>\n      <td>us</td>\n      <td>62.159202</td>\n      <td>-152.384253</td>\n      <td>60.55</td>\n      <td>-151.26</td>\n      <td>10.60</td>\n      <td>71</td>\n      <td>1</td>\n      <td>4.70</td>\n    </tr>\n    <tr>\n      <th>8</th>\n      <td>2186363</td>\n      <td>muriwai beach</td>\n      <td>nz</td>\n      <td>-37.346103</td>\n      <td>174.147155</td>\n      <td>-36.82</td>\n      <td>174.45</td>\n      <td>58.75</td>\n      <td>82</td>\n      <td>100</td>\n      <td>3.36</td>\n    </tr>\n    <tr>\n      <th>9</th>\n      <td>3874787</td>\n      <td>punta arenas</td>\n      <td>cl</td>\n      <td>-54.746063</td>\n      <td>-86.443001</td>\n      <td>-53.15</td>\n      <td>-70.92</td>\n      <td>49.93</td>\n      <td>81</td>\n      <td>75</td>\n      <td>6.93</td>\n    </tr>\n    <tr>\n      <th>10</th>\n      <td>2206939</td>\n      <td>bluff</td>\n      <td>nz</td>\n      <td>-73.637817</td>\n      <td>172.454124</td>\n      <td>-46.60</td>\n      <td>168.33</td>\n      <td>46.99</td>\n      <td>88</td>\n      <td>62</td>\n      <td>4.00</td>\n    </tr>\n    <tr>\n      <th>11</th>\n      <td>408689</td>\n      <td>lardos</td>\n      <td>gr</td>\n      <td>33.836658</td>\n      <td>29.333347</td>\n      <td>36.09</td>\n      <td>28.02</td>\n      <td>66.20</td>\n      <td>68</td>\n      <td>20</td>\n      <td>13.87</td>\n    </tr>\n    <tr>\n      <th>12</th>\n      <td>4020109</td>\n      <td>atuona</td>\n      <td>pf</td>\n      <td>-13.124056</td>\n      <td>-127.011480</td>\n      <td>-9.80</td>\n      <td>-139.03</td>\n      <td>82.35</td>\n      <td>76</td>\n      <td>47</td>\n      <td>17.54</td>\n    </tr>\n    <tr>\n      <th>13</th>\n      <td>1168700</td>\n      <td>ormara</td>\n      <td>pk</td>\n      <td>23.812769</td>\n      <td>64.742054</td>\n      <td>25.21</td>\n      <td>64.64</td>\n      <td>82.02</td>\n      <td>51</td>\n      <td>0</td>\n      <td>12.19</td>\n    </tr>\n    <tr>\n      <th>14</th>\n      <td>3831208</td>\n      <td>qaanaaq</td>\n      <td>gl</td>\n      <td>86.189062</td>\n      <td>-84.202436</td>\n      <td>77.48</td>\n      <td>-69.36</td>\n      <td>13.01</td>\n      <td>73</td>\n      <td>31</td>\n      <td>4.88</td>\n    </tr>\n    <tr>\n      <th>15</th>\n      <td>2123814</td>\n      <td>leningradskiy</td>\n      <td>ru</td>\n      <td>89.541002</td>\n      <td>175.445680</td>\n      <td>69.38</td>\n      <td>178.42</td>\n      <td>2.98</td>\n      <td>83</td>\n      <td>79</td>\n      <td>7.70</td>\n    </tr>\n    <tr>\n      <th>16</th>\n      <td>3471451</td>\n      <td>arraial do cabo</td>\n      <td>br</td>\n      <td>-30.965287</td>\n      <td>-40.221192</td>\n      <td>-22.97</td>\n      <td>-42.03</td>\n      <td>80.60</td>\n      <td>78</td>\n      <td>40</td>\n      <td>10.29</td>\n    </tr>\n    <tr>\n      <th>17</th>\n      <td>2163355</td>\n      <td>hobart</td>\n      <td>au</td>\n      <td>-67.956234</td>\n      <td>138.450293</td>\n      <td>-42.88</td>\n      <td>147.33</td>\n      <td>50.07</td>\n      <td>76</td>\n      <td>40</td>\n      <td>13.87</td>\n    </tr>\n    <tr>\n      <th>18</th>\n      <td>2527087</td>\n      <td>tiznit</td>\n      <td>ma</td>\n      <td>26.879687</td>\n      <td>-8.155225</td>\n      <td>29.58</td>\n      <td>-9.50</td>\n      <td>85.87</td>\n      <td>14</td>\n      <td>17</td>\n      <td>5.14</td>\n    </tr>\n    <tr>\n      <th>19</th>\n      <td>5848280</td>\n      <td>kapaa</td>\n      <td>us</td>\n      <td>12.748751</td>\n      <td>-174.143790</td>\n      <td>22.08</td>\n      <td>-159.32</td>\n      <td>65.25</td>\n      <td>93</td>\n      <td>1</td>\n      <td>6.93</td>\n    </tr>\n    <tr>\n      <th>20</th>\n      <td>2075265</td>\n      <td>busselton</td>\n      <td>au</td>\n      <td>-59.221614</td>\n      <td>99.592283</td>\n      <td>-33.65</td>\n      <td>115.33</td>\n      <td>70.75</td>\n      <td>38</td>\n      <td>98</td>\n      <td>4.23</td>\n    </tr>\n    <tr>\n      <th>21</th>\n      <td>3369157</td>\n      <td>cape town</td>\n      <td>za</td>\n      <td>-48.137380</td>\n      <td>1.369566</td>\n      <td>-33.93</td>\n      <td>18.42</td>\n      <td>65.05</td>\n      <td>48</td>\n      <td>20</td>\n      <td>14.99</td>\n    </tr>\n    <tr>\n      <th>22</th>\n      <td>3370903</td>\n      <td>jamestown</td>\n      <td>sh</td>\n      <td>-31.813651</td>\n      <td>-5.411442</td>\n      <td>-15.94</td>\n      <td>-5.72</td>\n      <td>71.06</td>\n      <td>71</td>\n      <td>5</td>\n      <td>13.04</td>\n    </tr>\n    <tr>\n      <th>23</th>\n      <td>5880054</td>\n      <td>barrow</td>\n      <td>us</td>\n      <td>80.574654</td>\n      <td>-145.965492</td>\n      <td>71.29</td>\n      <td>-156.79</td>\n      <td>-2.20</td>\n      <td>77</td>\n      <td>1</td>\n      <td>13.87</td>\n    </tr>\n    <tr>\n      <th>24</th>\n      <td>3652764</td>\n      <td>puerto ayora</td>\n      <td>ec</td>\n      <td>6.002103</td>\n      <td>-93.751610</td>\n      <td>-0.74</td>\n      <td>-90.35</td>\n      <td>82.09</td>\n      <td>88</td>\n      <td>75</td>\n      <td>3.36</td>\n    </tr>\n    <tr>\n      <th>25</th>\n      <td>6201424</td>\n      <td>mataura</td>\n      <td>pf</td>\n      <td>-70.690266</td>\n      <td>-162.787005</td>\n      <td>-46.19</td>\n      <td>168.86</td>\n      <td>46.99</td>\n      <td>88</td>\n      <td>8</td>\n      <td>4.00</td>\n    </tr>\n    <tr>\n      <th>26</th>\n      <td>2156643</td>\n      <td>mount gambier</td>\n      <td>au</td>\n      <td>-37.376263</td>\n      <td>140.764413</td>\n      <td>-37.83</td>\n      <td>140.77</td>\n      <td>53.60</td>\n      <td>81</td>\n      <td>90</td>\n      <td>5.82</td>\n    </tr>\n    <tr>\n      <th>27</th>\n      <td>3372964</td>\n      <td>lagoa</td>\n      <td>pt</td>\n      <td>43.821543</td>\n      <td>-31.202233</td>\n      <td>39.05</td>\n      <td>-27.98</td>\n      <td>63.43</td>\n      <td>85</td>\n      <td>0</td>\n      <td>12.53</td>\n    </tr>\n    <tr>\n      <th>28</th>\n      <td>3833367</td>\n      <td>ushuaia</td>\n      <td>ar</td>\n      <td>-78.035693</td>\n      <td>-48.230446</td>\n      <td>-54.80</td>\n      <td>-68.30</td>\n      <td>48.20</td>\n      <td>70</td>\n      <td>20</td>\n      <td>4.97</td>\n    </tr>\n    <tr>\n      <th>29</th>\n      <td>935215</td>\n      <td>saint-philippe</td>\n      <td>re</td>\n      <td>-66.104613</td>\n      <td>74.908947</td>\n      <td>-21.36</td>\n      <td>55.77</td>\n      <td>75.33</td>\n      <td>69</td>\n      <td>23</td>\n      <td>8.05</td>\n    </tr>\n    <tr>\n      <th>30</th>\n      <td>5855927</td>\n      <td>hilo</td>\n      <td>us</td>\n      <td>30.742012</td>\n      <td>-146.342180</td>\n      <td>19.73</td>\n      <td>-155.09</td>\n      <td>64.90</td>\n      <td>77</td>\n      <td>1</td>\n      <td>5.82</td>\n    </tr>\n    <tr>\n      <th>31</th>\n      <td>1337606</td>\n      <td>eydhafushi</td>\n      <td>mv</td>\n      <td>4.816294</td>\n      <td>73.253518</td>\n      <td>5.10</td>\n      <td>73.07</td>\n      <td>85.66</td>\n      <td>58</td>\n      <td>93</td>\n      <td>3.33</td>\n    </tr>\n    <tr>\n      <th>32</th>\n      <td>4030556</td>\n      <td>rikitea</td>\n      <td>pf</td>\n      <td>-42.041421</td>\n      <td>-112.090555</td>\n      <td>-23.12</td>\n      <td>-134.97</td>\n      <td>76.32</td>\n      <td>80</td>\n      <td>72</td>\n      <td>14.45</td>\n    </tr>\n    <tr>\n      <th>33</th>\n      <td>2160063</td>\n      <td>codrington</td>\n      <td>ag</td>\n      <td>24.652867</td>\n      <td>-55.521973</td>\n      <td>-28.95</td>\n      <td>153.24</td>\n      <td>63.36</td>\n      <td>88</td>\n      <td>90</td>\n      <td>4.70</td>\n    </tr>\n    <tr>\n      <th>34</th>\n      <td>1082243</td>\n      <td>ambilobe</td>\n      <td>mg</td>\n      <td>-8.635954</td>\n      <td>49.837624</td>\n      <td>-13.20</td>\n      <td>49.05</td>\n      <td>77.67</td>\n      <td>85</td>\n      <td>15</td>\n      <td>0.85</td>\n    </tr>\n    <tr>\n      <th>35</th>\n      <td>2015306</td>\n      <td>tiksi</td>\n      <td>ru</td>\n      <td>78.656790</td>\n      <td>127.654687</td>\n      <td>71.69</td>\n      <td>128.87</td>\n      <td>22.05</td>\n      <td>97</td>\n      <td>100</td>\n      <td>4.25</td>\n    </tr>\n    <tr>\n      <th>36</th>\n      <td>2094342</td>\n      <td>kavieng</td>\n      <td>pg</td>\n      <td>5.249574</td>\n      <td>154.193898</td>\n      <td>-2.57</td>\n      <td>150.80</td>\n      <td>83.55</td>\n      <td>74</td>\n      <td>69</td>\n      <td>4.70</td>\n    </tr>\n    <tr>\n      <th>37</th>\n      <td>5856516</td>\n      <td>ahuimanu</td>\n      <td>us</td>\n      <td>28.361534</td>\n      <td>-155.005020</td>\n      <td>21.44</td>\n      <td>-157.84</td>\n      <td>68.92</td>\n      <td>88</td>\n      <td>40</td>\n      <td>5.50</td>\n    </tr>\n    <tr>\n      <th>38</th>\n      <td>6111862</td>\n      <td>port hardy</td>\n      <td>ca</td>\n      <td>44.667490</td>\n      <td>-135.607268</td>\n      <td>50.70</td>\n      <td>-127.42</td>\n      <td>35.60</td>\n      <td>76</td>\n      <td>20</td>\n      <td>8.05</td>\n    </tr>\n  </tbody>\n</table>\n</div>"
     },
     "metadata": {},
     "execution_count": 4
    }
   ],
   "source": [
    "#Build the dataframe of all the city records and data\n",
    "\n",
    "city_data = pd.DataFrame(columns=['City ID', 'City', 'Country', 'Orig Lat', 'Orig Lon', 'Act Lat', 'Act Lon', 'Temperature (F)', 'Humidity', 'Cloudiness', 'Wind Speed'])\n",
    "\n",
    "city_data['City ID'] = city_ID\n",
    "city_data['City'] = cities\n",
    "city_data['Country'] = countries\n",
    "city_data['Orig Lat'] = orig_latitude\n",
    "city_data['Orig Lon'] = orig_longitude\n",
    "city_data['Act Lat'] = city_latitude\n",
    "city_data['Act Lon'] = city_longitude\n",
    "city_data['Temperature (F)'] = city_temp\n",
    "city_data['Humidity'] = city_humidity\n",
    "city_data['Cloudiness'] = city_clouds_pct\n",
    "city_data['Wind Speed'] = city_windspeed\n",
    "\n",
    "#Print the dataframe to screen and csv file\n",
    "print('The total number of cities added is '+str(len(city_data)))\n",
    "city_data.to_csv('test_city_data')\n",
    "city_data"
   ]
  },
  {
   "cell_type": "code",
   "execution_count": null,
   "metadata": {},
   "outputs": [],
   "source": []
  },
  {
   "cell_type": "markdown",
   "metadata": {},
   "source": [
    "## Inspect the data and remove the cities where the humidity > 100%.\n",
    "----\n",
    "Skip this step if there are no cities that have humidity > 100%. "
   ],
   "execution_count": null,
   "outputs": []
  },
  {
   "cell_type": "code",
   "execution_count": null,
   "metadata": {},
   "outputs": [],
   "source": []
  },
  {
   "cell_type": "code",
   "execution_count": 5,
   "metadata": {},
   "outputs": [],
   "source": [
    "#  Get the indices of cities that have humidity over 100%.\n",
    ""
   ]
  },
  {
   "cell_type": "code",
   "execution_count": 6,
   "metadata": {},
   "outputs": [],
   "source": [
    "# Make a new DataFrame equal to the city data to drop all humidity outliers by index.\n",
    "# Passing \"inplace=False\" will make a copy of the city_data DataFrame, which we call \"clean_city_data\".\n",
    ""
   ]
  },
  {
   "cell_type": "code",
   "execution_count": 7,
   "metadata": {},
   "outputs": [],
   "source": [
    "# Extract relevant fields from the data frame\n",
    "\n",
    "\n",
    "# Export the City_Data into a csv\n",
    ""
   ]
  },
  {
   "cell_type": "markdown",
   "metadata": {},
   "source": [
    "## Plotting the Data\n",
    "* Use proper labeling of the plots using plot titles (including date of analysis) and axes labels.\n",
    "* Save the plotted figures as .pngs."
   ],
   "execution_count": null,
   "outputs": []
  },
  {
   "cell_type": "markdown",
   "metadata": {},
   "source": [
    "## Latitude vs. Temperature Plot"
   ],
   "execution_count": null,
   "outputs": []
  },
  {
   "cell_type": "code",
   "execution_count": null,
   "metadata": {
    "scrolled": true
   },
   "outputs": [],
   "source": []
  },
  {
   "cell_type": "markdown",
   "metadata": {},
   "source": [
    "## Latitude vs. Humidity Plot"
   ],
   "execution_count": null,
   "outputs": []
  },
  {
   "cell_type": "code",
   "execution_count": null,
   "metadata": {},
   "outputs": [],
   "source": []
  },
  {
   "cell_type": "markdown",
   "metadata": {},
   "source": [
    "## Latitude vs. Cloudiness Plot"
   ],
   "execution_count": null,
   "outputs": []
  },
  {
   "cell_type": "code",
   "execution_count": null,
   "metadata": {},
   "outputs": [],
   "source": []
  },
  {
   "cell_type": "markdown",
   "metadata": {},
   "source": [
    "## Latitude vs. Wind Speed Plot"
   ],
   "execution_count": null,
   "outputs": []
  },
  {
   "cell_type": "code",
   "execution_count": null,
   "metadata": {},
   "outputs": [],
   "source": []
  },
  {
   "cell_type": "markdown",
   "metadata": {},
   "source": [
    "## Linear Regression"
   ],
   "execution_count": null,
   "outputs": []
  },
  {
   "cell_type": "code",
   "execution_count": 8,
   "metadata": {},
   "outputs": [],
   "source": [
    "# OPTIONAL: Create a function to create Linear Regression plots"
   ]
  },
  {
   "cell_type": "code",
   "execution_count": 9,
   "metadata": {},
   "outputs": [],
   "source": [
    "# Create Northern and Southern Hemisphere DataFrames"
   ]
  },
  {
   "cell_type": "markdown",
   "metadata": {},
   "source": [
    "####  Northern Hemisphere - Max Temp vs. Latitude Linear Regression"
   ],
   "execution_count": null,
   "outputs": []
  },
  {
   "cell_type": "code",
   "execution_count": null,
   "metadata": {},
   "outputs": [],
   "source": []
  },
  {
   "cell_type": "markdown",
   "metadata": {},
   "source": [
    "####  Southern Hemisphere - Max Temp vs. Latitude Linear Regression"
   ],
   "execution_count": null,
   "outputs": []
  },
  {
   "cell_type": "code",
   "execution_count": null,
   "metadata": {},
   "outputs": [],
   "source": []
  },
  {
   "cell_type": "markdown",
   "metadata": {},
   "source": [
    "####  Northern Hemisphere - Humidity (%) vs. Latitude Linear Regression"
   ],
   "execution_count": null,
   "outputs": []
  },
  {
   "cell_type": "code",
   "execution_count": null,
   "metadata": {},
   "outputs": [],
   "source": []
  },
  {
   "cell_type": "markdown",
   "metadata": {},
   "source": [
    "####  Southern Hemisphere - Humidity (%) vs. Latitude Linear Regression"
   ],
   "execution_count": null,
   "outputs": []
  },
  {
   "cell_type": "code",
   "execution_count": null,
   "metadata": {},
   "outputs": [],
   "source": []
  },
  {
   "cell_type": "markdown",
   "metadata": {},
   "source": [
    "####  Northern Hemisphere - Cloudiness (%) vs. Latitude Linear Regression"
   ],
   "execution_count": null,
   "outputs": []
  },
  {
   "cell_type": "code",
   "execution_count": null,
   "metadata": {},
   "outputs": [],
   "source": []
  },
  {
   "cell_type": "markdown",
   "metadata": {},
   "source": [
    "####  Southern Hemisphere - Cloudiness (%) vs. Latitude Linear Regression"
   ],
   "execution_count": null,
   "outputs": []
  },
  {
   "cell_type": "code",
   "execution_count": null,
   "metadata": {},
   "outputs": [],
   "source": []
  },
  {
   "cell_type": "markdown",
   "metadata": {},
   "source": [
    "####  Northern Hemisphere - Wind Speed (mph) vs. Latitude Linear Regression"
   ],
   "execution_count": null,
   "outputs": []
  },
  {
   "cell_type": "code",
   "execution_count": null,
   "metadata": {},
   "outputs": [],
   "source": []
  },
  {
   "cell_type": "markdown",
   "metadata": {},
   "source": [
    "####  Southern Hemisphere - Wind Speed (mph) vs. Latitude Linear Regression"
   ],
   "execution_count": null,
   "outputs": []
  },
  {
   "cell_type": "code",
   "execution_count": null,
   "metadata": {},
   "outputs": [],
   "source": []
  },
  {
   "cell_type": "code",
   "execution_count": null,
   "metadata": {},
   "outputs": [],
   "source": []
  }
 ],
 "metadata": {
  "anaconda-cloud": {},
  "kernel_info": {
   "name": "python3"
  },
  "kernelspec": {
   "display_name": "Python 3.6.10 64-bit ('PythonData': conda)",
   "language": "python",
   "name": "python361064bitpythondatacondaab47c43dfe824d4eb95e9e8f15b48370"
  },
  "language_info": {
   "codemirror_mode": {
    "name": "ipython",
    "version": 3
   },
   "file_extension": ".py",
   "mimetype": "text/x-python",
   "name": "python",
   "nbconvert_exporter": "python",
   "pygments_lexer": "ipython3",
   "version": "3.6.10-final"
  },
  "latex_envs": {
   "LaTeX_envs_menu_present": true,
   "autoclose": false,
   "autocomplete": true,
   "bibliofile": "biblio.bib",
   "cite_by": "apalike",
   "current_citInitial": 1,
   "eqLabelWithNumbers": true,
   "eqNumInitial": 1,
   "hotkeys": {
    "equation": "Ctrl-E",
    "itemize": "Ctrl-I"
   },
   "labels_anchors": false,
   "latex_user_defs": false,
   "report_style_numbering": false,
   "user_envs_cfg": false
  },
  "nteract": {
   "version": "0.12.3"
  }
 },
 "nbformat": 4,
 "nbformat_minor": 2
}
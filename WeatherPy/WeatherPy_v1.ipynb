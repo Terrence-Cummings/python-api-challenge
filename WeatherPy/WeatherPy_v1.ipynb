{
 "cells": [
  {
   "cell_type": "markdown",
   "metadata": {},
   "source": [
    "# WeatherPy\n",
    "----\n",
    "\n",
    "#### Note\n",
    "* Instructions have been included for each segment. You do not have to follow them exactly, but they are included to help you think through the steps."
   ],
   "execution_count": null,
   "outputs": []
  },
  {
   "cell_type": "code",
   "execution_count": 24,
   "metadata": {
    "scrolled": true
   },
   "outputs": [],
   "source": [
    "# Dependencies and Setup\n",
    "import matplotlib.pyplot as plt\n",
    "import pandas as pd\n",
    "import numpy as np\n",
    "import requests\n",
    "import time\n",
    "from scipy.stats import linregress\n",
    "import requests\n",
    "import json\n",
    "from pprint import pprint\n",
    "\n",
    "# Import API key\n",
    "from api_keys import weather_api_key\n",
    "\n",
    "# Incorporated citipy to determine city based on latitude and longitude\n",
    "from citipy import citipy\n",
    "\n",
    "# Output File (CSV)\n",
    "output_data_file = \"output_data/cities.csv\"\n",
    "\n",
    "# Range of latitudes and longitudes\n",
    "lat_range = (-90, 90)\n",
    "lng_range = (-180, 180)\n",
    ""
   ]
  },
  {
   "cell_type": "markdown",
   "metadata": {},
   "source": [
    "## Generate Cities List"
   ],
   "execution_count": null,
   "outputs": []
  },
  {
   "cell_type": "code",
   "execution_count": 25,
   "metadata": {
    "tags": [
     "outputPrepend"
    ]
   },
   "outputs": [],
   "source": [
    "# List for holding lat_lngs and cities\n",
    "\n",
    "lat_lngs = []\n",
    "cities = []\n",
    "countries=[]\n",
    "orig_latitude=[]\n",
    "orig_longitude=[]\n",
    "\n",
    "\n",
    "# Create a set of random lat and lng combinations\n",
    "lats = np.random.uniform(lat_range[0], lat_range[1], size=5)\n",
    "lngs = np.random.uniform(lng_range[0], lng_range[1], size=5)\n",
    "lat_lngs = zip(lats, lngs)\n",
    "\n",
    "# Identify nearest city for each lat, lng combination\n",
    "for lat_lng in lat_lngs:\n",
    "    city = citipy.nearest_city(lat_lng[0], lat_lng[1]).city_name\n",
    "    country = citipy.nearest_city(lat_lng[0], lat_lng[1]).country_code\n",
    "    if city not in cities:\n",
    "        cities.append(city)\n",
    "        countries.append(country)\n",
    "        orig_latitude.append(lat_lng[0])\n",
    "        orig_longitude.append(lat_lng[1])\n",
    "\n",
    "city_country_lat_lon = zip(cities, countries, orig_latitude, orig_longitude)"
   ]
  },
  {
   "cell_type": "markdown",
   "metadata": {},
   "source": [
    "### Perform API Calls\n",
    "* Perform a weather check on each city using a series of successive API calls.\n",
    "* Include a print log of each city as it's being processed (with the city number and city name).\n",
    "\n",
    "Temperature (F) vs. Latitude\n",
    "\n",
    "Humidity (%) vs. Latitude\n",
    "\n",
    "Cloudiness (%) vs. Latitude\n",
    "\n",
    "Wind Speed (mph) vs. Latitude\n",
    "\n"
   ],
   "execution_count": null,
   "outputs": []
  },
  {
   "cell_type": "code",
   "execution_count": 26,
   "metadata": {},
   "outputs": [
    {
     "output_type": "stream",
     "name": "stdout",
     "text": "<Response [200]>\n<Response [200]>\n<Response [200]>\n<Response [200]>\n<Response [200]>\n5\n"
    },
    {
     "output_type": "execute_result",
     "data": {
      "text/plain": "   City ID            City Country   Orig Lat    Orig Lon  Act Lat  Act Lon  \\\n0  3420768   qasigiannguit      gl  68.661667  -51.592774    68.82   -51.19   \n1   935215  saint-philippe      re -66.124905   76.784377   -21.36    55.77   \n2  2112802          hasaki      jp  25.133199  159.264615    35.73   140.83   \n3  4231997           avera      pf -34.685862 -157.126334    33.19   -82.53   \n4  3833367         ushuaia      ar -82.921958  -24.038443   -54.80   -68.30   \n\n   Temperature (F)  Humidity  Cloudiness  Wind Speed  \n0            10.40        60          75        6.93  \n1            68.86        60           3        4.70  \n2            56.57        54          75        4.70  \n3            72.54        60           1        4.70  \n4            50.00        66          75       13.87  ",
      "text/html": "<div>\n<style scoped>\n    .dataframe tbody tr th:only-of-type {\n        vertical-align: middle;\n    }\n\n    .dataframe tbody tr th {\n        vertical-align: top;\n    }\n\n    .dataframe thead th {\n        text-align: right;\n    }\n</style>\n<table border=\"1\" class=\"dataframe\">\n  <thead>\n    <tr style=\"text-align: right;\">\n      <th></th>\n      <th>City ID</th>\n      <th>City</th>\n      <th>Country</th>\n      <th>Orig Lat</th>\n      <th>Orig Lon</th>\n      <th>Act Lat</th>\n      <th>Act Lon</th>\n      <th>Temperature (F)</th>\n      <th>Humidity</th>\n      <th>Cloudiness</th>\n      <th>Wind Speed</th>\n    </tr>\n  </thead>\n  <tbody>\n    <tr>\n      <th>0</th>\n      <td>3420768</td>\n      <td>qasigiannguit</td>\n      <td>gl</td>\n      <td>68.661667</td>\n      <td>-51.592774</td>\n      <td>68.82</td>\n      <td>-51.19</td>\n      <td>10.40</td>\n      <td>60</td>\n      <td>75</td>\n      <td>6.93</td>\n    </tr>\n    <tr>\n      <th>1</th>\n      <td>935215</td>\n      <td>saint-philippe</td>\n      <td>re</td>\n      <td>-66.124905</td>\n      <td>76.784377</td>\n      <td>-21.36</td>\n      <td>55.77</td>\n      <td>68.86</td>\n      <td>60</td>\n      <td>3</td>\n      <td>4.70</td>\n    </tr>\n    <tr>\n      <th>2</th>\n      <td>2112802</td>\n      <td>hasaki</td>\n      <td>jp</td>\n      <td>25.133199</td>\n      <td>159.264615</td>\n      <td>35.73</td>\n      <td>140.83</td>\n      <td>56.57</td>\n      <td>54</td>\n      <td>75</td>\n      <td>4.70</td>\n    </tr>\n    <tr>\n      <th>3</th>\n      <td>4231997</td>\n      <td>avera</td>\n      <td>pf</td>\n      <td>-34.685862</td>\n      <td>-157.126334</td>\n      <td>33.19</td>\n      <td>-82.53</td>\n      <td>72.54</td>\n      <td>60</td>\n      <td>1</td>\n      <td>4.70</td>\n    </tr>\n    <tr>\n      <th>4</th>\n      <td>3833367</td>\n      <td>ushuaia</td>\n      <td>ar</td>\n      <td>-82.921958</td>\n      <td>-24.038443</td>\n      <td>-54.80</td>\n      <td>-68.30</td>\n      <td>50.00</td>\n      <td>66</td>\n      <td>75</td>\n      <td>13.87</td>\n    </tr>\n  </tbody>\n</table>\n</div>"
     },
     "metadata": {},
     "execution_count": 26
    }
   ],
   "source": [
    "#Example of OpenWeather API call http://api.openweathermap.org/data/2.5/weather?q=London,uk&APPID=973d76a9421d572f47622e44bcca1876\n",
    "#http://api.openweathermap.org/data/2.5/weather?q={city name},{state},{country code}&units=imperial&appid={your api key}\n",
    "\n",
    "city_ID=[]\n",
    "city_temp=[]\n",
    "city_humidity=[]\n",
    "city_clouds_pct=[]\n",
    "city_windspeed=[]\n",
    "city_latitude=[]\n",
    "city_longitude=[]\n",
    "cities = []\n",
    "countries=[]\n",
    "orig_latitude=[]\n",
    "orig_longitude=[]\n",
    "\n",
    "x=0\n",
    "for city_loop, country_loop, lat_loop, lon_loop in city_country_lat_lon:\n",
    "    city_name = city_loop\n",
    "    country_name = country_loop\n",
    "    url = 'http://api.openweathermap.org/data/2.5/weather?q='+city_name+',,'+country_name+'&units=imperial&appid='+weather_api_key\n",
    "    res = requests.get(url)\n",
    "    print(res)\n",
    "    if res.status_code != 200:    \n",
    "        continue\n",
    "\n",
    "    response = res.json()\n",
    "    city_ID.append(response['id'])\n",
    "    cities.append(city_name)\n",
    "    countries.append(country_name)\n",
    "    orig_latitude.append(lat_loop)\n",
    "    orig_longitude.append(lon_loop)\n",
    "    city_temp.append(response['main']['temp'])\n",
    "    city_humidity.append(response['main']['humidity'])\n",
    "    city_clouds_pct.append(response['clouds']['all'])\n",
    "    city_windspeed.append(response['wind']['speed'])\n",
    "    city_latitude.append(response['coord']['lat'])\n",
    "    city_longitude.append(response['coord']['lon'])\n",
    "\n",
    "city_data = pd.DataFrame(columns=['City ID', 'City', 'Country', 'Orig Lat', 'Orig Lon', 'Act Lat', 'Act Lon', 'Temperature (F)', 'Humidity', 'Cloudiness', 'Wind Speed'])\n",
    "\n",
    "city_data['City ID'] = city_ID\n",
    "city_data['City'] = cities\n",
    "city_data['Country'] = countries\n",
    "city_data['Orig Lat'] = orig_latitude\n",
    "city_data['Orig Lon'] = orig_longitude\n",
    "city_data['Act Lat'] = city_latitude\n",
    "city_data['Act Lon'] = city_longitude\n",
    "city_data['Temperature (F)'] = city_temp\n",
    "city_data['Humidity'] = city_humidity\n",
    "city_data['Cloudiness'] = city_clouds_pct\n",
    "city_data['Wind Speed'] = city_windspeed\n",
    "        \n",
    "city_data.to_csv('test_city_data')\n",
    "\n",
    "print(len(city_data))\n",
    "city_data\n",
    ""
   ]
  },
  {
   "cell_type": "markdown",
   "metadata": {},
   "source": [
    "### Convert Raw Data to DataFrame\n",
    "* Export the city data into a .csv.\n",
    "* Display the DataFrame"
   ],
   "execution_count": null,
   "outputs": []
  },
  {
   "cell_type": "code",
   "execution_count": null,
   "metadata": {},
   "outputs": [],
   "source": []
  },
  {
   "cell_type": "code",
   "execution_count": null,
   "metadata": {},
   "outputs": [],
   "source": []
  },
  {
   "cell_type": "markdown",
   "metadata": {},
   "source": [
    "## Inspect the data and remove the cities where the humidity > 100%.\n",
    "----\n",
    "Skip this step if there are no cities that have humidity > 100%. "
   ],
   "execution_count": null,
   "outputs": []
  },
  {
   "cell_type": "code",
   "execution_count": null,
   "metadata": {},
   "outputs": [],
   "source": []
  },
  {
   "cell_type": "code",
   "execution_count": 27,
   "metadata": {},
   "outputs": [],
   "source": [
    "#  Get the indices of cities that have humidity over 100%.\n",
    ""
   ]
  },
  {
   "cell_type": "code",
   "execution_count": 28,
   "metadata": {},
   "outputs": [],
   "source": [
    "# Make a new DataFrame equal to the city data to drop all humidity outliers by index.\n",
    "# Passing \"inplace=False\" will make a copy of the city_data DataFrame, which we call \"clean_city_data\".\n",
    ""
   ]
  },
  {
   "cell_type": "code",
   "execution_count": 29,
   "metadata": {},
   "outputs": [],
   "source": [
    "# Extract relevant fields from the data frame\n",
    "\n",
    "\n",
    "# Export the City_Data into a csv\n",
    ""
   ]
  },
  {
   "cell_type": "markdown",
   "metadata": {},
   "source": [
    "## Plotting the Data\n",
    "* Use proper labeling of the plots using plot titles (including date of analysis) and axes labels.\n",
    "* Save the plotted figures as .pngs."
   ],
   "execution_count": null,
   "outputs": []
  },
  {
   "cell_type": "markdown",
   "metadata": {},
   "source": [
    "## Latitude vs. Temperature Plot"
   ],
   "execution_count": null,
   "outputs": []
  },
  {
   "cell_type": "code",
   "execution_count": null,
   "metadata": {
    "scrolled": true
   },
   "outputs": [],
   "source": []
  },
  {
   "cell_type": "markdown",
   "metadata": {},
   "source": [
    "## Latitude vs. Humidity Plot"
   ],
   "execution_count": null,
   "outputs": []
  },
  {
   "cell_type": "code",
   "execution_count": null,
   "metadata": {},
   "outputs": [],
   "source": []
  },
  {
   "cell_type": "markdown",
   "metadata": {},
   "source": [
    "## Latitude vs. Cloudiness Plot"
   ],
   "execution_count": null,
   "outputs": []
  },
  {
   "cell_type": "code",
   "execution_count": null,
   "metadata": {},
   "outputs": [],
   "source": []
  },
  {
   "cell_type": "markdown",
   "metadata": {},
   "source": [
    "## Latitude vs. Wind Speed Plot"
   ],
   "execution_count": null,
   "outputs": []
  },
  {
   "cell_type": "code",
   "execution_count": null,
   "metadata": {},
   "outputs": [],
   "source": []
  },
  {
   "cell_type": "markdown",
   "metadata": {},
   "source": [
    "## Linear Regression"
   ],
   "execution_count": null,
   "outputs": []
  },
  {
   "cell_type": "code",
   "execution_count": 30,
   "metadata": {},
   "outputs": [],
   "source": [
    "# OPTIONAL: Create a function to create Linear Regression plots"
   ]
  },
  {
   "cell_type": "code",
   "execution_count": 31,
   "metadata": {},
   "outputs": [],
   "source": [
    "# Create Northern and Southern Hemisphere DataFrames"
   ]
  },
  {
   "cell_type": "markdown",
   "metadata": {},
   "source": [
    "####  Northern Hemisphere - Max Temp vs. Latitude Linear Regression"
   ],
   "execution_count": null,
   "outputs": []
  },
  {
   "cell_type": "code",
   "execution_count": null,
   "metadata": {},
   "outputs": [],
   "source": []
  },
  {
   "cell_type": "markdown",
   "metadata": {},
   "source": [
    "####  Southern Hemisphere - Max Temp vs. Latitude Linear Regression"
   ],
   "execution_count": null,
   "outputs": []
  },
  {
   "cell_type": "code",
   "execution_count": null,
   "metadata": {},
   "outputs": [],
   "source": []
  },
  {
   "cell_type": "markdown",
   "metadata": {},
   "source": [
    "####  Northern Hemisphere - Humidity (%) vs. Latitude Linear Regression"
   ],
   "execution_count": null,
   "outputs": []
  },
  {
   "cell_type": "code",
   "execution_count": null,
   "metadata": {},
   "outputs": [],
   "source": []
  },
  {
   "cell_type": "markdown",
   "metadata": {},
   "source": [
    "####  Southern Hemisphere - Humidity (%) vs. Latitude Linear Regression"
   ],
   "execution_count": null,
   "outputs": []
  },
  {
   "cell_type": "code",
   "execution_count": null,
   "metadata": {},
   "outputs": [],
   "source": []
  },
  {
   "cell_type": "markdown",
   "metadata": {},
   "source": [
    "####  Northern Hemisphere - Cloudiness (%) vs. Latitude Linear Regression"
   ],
   "execution_count": null,
   "outputs": []
  },
  {
   "cell_type": "code",
   "execution_count": null,
   "metadata": {},
   "outputs": [],
   "source": []
  },
  {
   "cell_type": "markdown",
   "metadata": {},
   "source": [
    "####  Southern Hemisphere - Cloudiness (%) vs. Latitude Linear Regression"
   ],
   "execution_count": null,
   "outputs": []
  },
  {
   "cell_type": "code",
   "execution_count": null,
   "metadata": {},
   "outputs": [],
   "source": []
  },
  {
   "cell_type": "markdown",
   "metadata": {},
   "source": [
    "####  Northern Hemisphere - Wind Speed (mph) vs. Latitude Linear Regression"
   ],
   "execution_count": null,
   "outputs": []
  },
  {
   "cell_type": "code",
   "execution_count": null,
   "metadata": {},
   "outputs": [],
   "source": []
  },
  {
   "cell_type": "markdown",
   "metadata": {},
   "source": [
    "####  Southern Hemisphere - Wind Speed (mph) vs. Latitude Linear Regression"
   ],
   "execution_count": null,
   "outputs": []
  },
  {
   "cell_type": "code",
   "execution_count": null,
   "metadata": {},
   "outputs": [],
   "source": []
  },
  {
   "cell_type": "code",
   "execution_count": null,
   "metadata": {},
   "outputs": [],
   "source": []
  }
 ],
 "metadata": {
  "anaconda-cloud": {},
  "kernel_info": {
   "name": "python3"
  },
  "kernelspec": {
   "display_name": "Python 3.6.10 64-bit ('PythonData': conda)",
   "language": "python",
   "name": "python361064bitpythondatacondaab47c43dfe824d4eb95e9e8f15b48370"
  },
  "language_info": {
   "codemirror_mode": {
    "name": "ipython",
    "version": 3
   },
   "file_extension": ".py",
   "mimetype": "text/x-python",
   "name": "python",
   "nbconvert_exporter": "python",
   "pygments_lexer": "ipython3",
   "version": "3.6.10-final"
  },
  "latex_envs": {
   "LaTeX_envs_menu_present": true,
   "autoclose": false,
   "autocomplete": true,
   "bibliofile": "biblio.bib",
   "cite_by": "apalike",
   "current_citInitial": 1,
   "eqLabelWithNumbers": true,
   "eqNumInitial": 1,
   "hotkeys": {
    "equation": "Ctrl-E",
    "itemize": "Ctrl-I"
   },
   "labels_anchors": false,
   "latex_user_defs": false,
   "report_style_numbering": false,
   "user_envs_cfg": false
  },
  "nteract": {
   "version": "0.12.3"
  }
 },
 "nbformat": 4,
 "nbformat_minor": 2
}
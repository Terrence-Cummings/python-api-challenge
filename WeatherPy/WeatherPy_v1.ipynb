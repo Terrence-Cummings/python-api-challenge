{
 "cells": [
  {
   "cell_type": "markdown",
   "metadata": {},
   "source": [
    "# WeatherPy\n",
    "----\n",
    "\n",
    "#### Note\n",
    "* Instructions have been included for each segment. You do not have to follow them exactly, but they are included to help you think through the steps."
   ],
   "execution_count": null,
   "outputs": []
  },
  {
   "cell_type": "code",
   "execution_count": 92,
   "metadata": {
    "scrolled": true
   },
   "outputs": [],
   "source": [
    "# Dependencies and Setup\n",
    "import matplotlib.pyplot as plt\n",
    "import pandas as pd\n",
    "import numpy as np\n",
    "import requests\n",
    "import time\n",
    "from scipy.stats import linregress\n",
    "import requests\n",
    "import json\n",
    "from pprint import pprint\n",
    "\n",
    "# Import API key\n",
    "from api_keys import weather_api_key\n",
    "\n",
    "# Incorporated citipy to determine city based on latitude and longitude\n",
    "from citipy import citipy\n",
    "\n",
    "# Output File (CSV)\n",
    "output_data_file = \"output_data/cities.csv\"\n",
    "\n",
    "# Range of latitudes and longitudes\n",
    "lat_range = (-90, 90)\n",
    "lng_range = (-180, 180)\n",
    ""
   ]
  },
  {
   "cell_type": "markdown",
   "metadata": {},
   "source": [
    "## Generate Cities List"
   ],
   "execution_count": null,
   "outputs": []
  },
  {
   "cell_type": "code",
   "execution_count": 93,
   "metadata": {
    "tags": [
     "outputPrepend"
    ]
   },
   "outputs": [],
   "source": [
    "# List for holding lat_lngs and cities\n",
    "\n",
    "lat_lngs = []\n",
    "cities = []\n",
    "countries=[]\n",
    "orig_latitude=[]\n",
    "orig_longitude=[]\n",
    "\n",
    "\n",
    "# Create a set of random lat and lng combinations\n",
    "lats = np.random.uniform(lat_range[0], lat_range[1], size=50)\n",
    "lngs = np.random.uniform(lng_range[0], lng_range[1], size=50)\n",
    "lat_lngs = zip(lats, lngs)\n",
    "\n",
    "# Identify nearest city for each lat, lng combination\n",
    "for lat_lng in lat_lngs:\n",
    "    city = citipy.nearest_city(lat_lng[0], lat_lng[1]).city_name\n",
    "    country = citipy.nearest_city(lat_lng[0], lat_lng[1]).country_code\n",
    "    if city not in cities:\n",
    "        cities.append(city)\n",
    "        countries.append(country)\n",
    "        orig_latitude.append(lat_lng[0])\n",
    "        orig_longitude.append(lat_lng[1])\n",
    "\n",
    "city_country_lat_lon = zip(cities, countries, orig_latitude, orig_longitude)"
   ]
  },
  {
   "cell_type": "markdown",
   "metadata": {},
   "source": [
    "### Perform API Calls\n",
    "* Perform a weather check on each city using a series of successive API calls.\n",
    "* Include a print log of each city as it's being processed (with the city number and city name).\n",
    "\n",
    "Temperature (F) vs. Latitude\n",
    "\n",
    "Humidity (%) vs. Latitude\n",
    "\n",
    "Cloudiness (%) vs. Latitude\n",
    "\n",
    "Wind Speed (mph) vs. Latitude\n",
    "\n"
   ],
   "execution_count": null,
   "outputs": []
  },
  {
   "cell_type": "code",
   "execution_count": 94,
   "metadata": {},
   "outputs": [
    {
     "output_type": "stream",
     "name": "stdout",
     "text": "3421319: nuuk found and added!\none hundred mile house not found at OpenWeather API!\ntaolanaro not found at OpenWeather API!\n5850554: makakilo city found and added!\n1789647: xichang found and added!\n2075265: busselton found and added!\n6201424: mataura found and added!\n3833367: ushuaia found and added!\n3981391: tomatlan found and added!\nilloqqortoormiut not found at OpenWeather API!\n951650: stutterheim found and added!\n1282256: hithadhoo found and added!\n5866583: kodiak found and added!\n2411397: georgetown found and added!\n2122090: pevek found and added!\n4020109: atuona found and added!\n3430863: mar del plata found and added!\n5606187: saint anthony found and added!\n2027196: balakhninskiy found and added!\n2163355: hobart found and added!\n3424934: saint-pierre found and added!\n2014369: ulety found and added!\n1630662: praya found and added!\n934649: cap malheureux found and added!\n3874787: punta arenas found and added!\n1507390: dikson found and added!\nmrirt not found at OpenWeather API!\n5880054: barrow found and added!\n3359736: vredendal found and added!\n2126199: cherskiy found and added!\n978895: margate found and added!\n4032243: vaini found and added!\n4035715: avarua found and added!\n3448903: sao joao da barra found and added!\n3006414: la seyne-sur-mer found and added!\n2063030: port pirie found and added!\n485699: svetlogorsk found and added!\n1015776: bredasdorp found and added!\n2729907: longyearbyen found and added!\n1529651: altay found and added!\n3380290: sinnamary found and added!\n3896218: castro found and added!\n286245: sur found and added!\n475469: verkhnetulomskiy found and added!\n2387926: bouar found and added!\n2155415: new norfolk found and added!\n2173911: broken hill found and added!\n3366880: hermanus found and added!\n\nFINISHED PROCESSING WEATHER APIs\n"
    }
   ],
   "source": [
    "#Example of OpenWeather API call http://api.openweathermap.org/data/2.5/weather?q=London,uk&APPID=973d76a9421d572f47622e44bcca1876\n",
    "#http://api.openweathermap.org/data/2.5/weather?q={city name},{state},{country code}&units=imperial&appid={your api key}\n",
    "\n",
    "city_ID=[]\n",
    "city_temp=[]\n",
    "city_humidity=[]\n",
    "city_clouds_pct=[]\n",
    "city_windspeed=[]\n",
    "city_latitude=[]\n",
    "city_longitude=[]\n",
    "cities = []\n",
    "countries=[]\n",
    "orig_latitude=[]\n",
    "orig_longitude=[]\n",
    "\n",
    "x=0\n",
    "for city_loop, country_loop, lat_loop, lon_loop in city_country_lat_lon:\n",
    "    city_name = city_loop\n",
    "    country_name = country_loop\n",
    "    url = 'http://api.openweathermap.org/data/2.5/weather?q='+city_name+',,'+country_name+'&units=imperial&appid='+weather_api_key\n",
    "    res = requests.get(url)\n",
    "    if res.status_code != 200:    \n",
    "        print(city_name+' not found at OpenWeather API!')\n",
    "        continue\n",
    "    response = res.json()\n",
    "    print(str(response['id'])+\": \"+city_name+' found and added!')\n",
    "    city_ID.append(response['id'])\n",
    "    cities.append(city_name)\n",
    "    countries.append(country_name)\n",
    "    orig_latitude.append(lat_loop)\n",
    "    orig_longitude.append(lon_loop)\n",
    "    city_temp.append(response['main']['temp'])\n",
    "    city_humidity.append(response['main']['humidity'])\n",
    "    city_clouds_pct.append(response['clouds']['all'])\n",
    "    city_windspeed.append(response['wind']['speed'])\n",
    "    city_latitude.append(response['coord']['lat'])\n",
    "    city_longitude.append(response['coord']['lon'])\n",
    "\n",
    "print('')\n",
    "print('FINISHED PROCESSING WEATHER APIs')"
   ]
  },
  {
   "cell_type": "markdown",
   "metadata": {},
   "source": [
    "### Convert Raw Data to DataFrame\n",
    "* Export the city data into a .csv.\n",
    "* Display the DataFrame"
   ],
   "execution_count": null,
   "outputs": []
  },
  {
   "cell_type": "code",
   "execution_count": 95,
   "metadata": {},
   "outputs": [
    {
     "output_type": "stream",
     "name": "stdout",
     "text": "The total number of cities added is 44\n"
    },
    {
     "output_type": "execute_result",
     "data": {
      "text/plain": "    City ID               City Country   Orig Lat    Orig Lon  Act Lat  \\\n0   3421319               nuuk      gl  64.815004  -50.631260    64.18   \n1   5850554      makakilo city      us   5.257831 -167.551466    21.35   \n2   1789647            xichang      cn  28.194614  100.133635    27.90   \n3   2075265          busselton      au -87.925629   75.626420   -33.65   \n4   6201424            mataura      pf -72.268403 -141.886630   -46.19   \n5   3833367            ushuaia      ar -65.615792  -51.861878   -54.80   \n6   3981391           tomatlan      mx  18.131047 -107.263423    19.93   \n7    951650        stutterheim      za -32.251835   27.339470   -32.57   \n8   1282256          hithadhoo      mv  -8.553161   71.168992    -0.60   \n9   5866583             kodiak      us  43.067878 -157.551384    57.79   \n10  2411397         georgetown      sh  -6.852234   -7.596112    -7.93   \n11  2122090              pevek      ru  78.393420  168.655012    69.70   \n12  4020109             atuona      pf  10.183728 -135.943827    -9.80   \n13  3430863      mar del plata      ar -38.203401  -54.546565   -38.00   \n14  5606187      saint anthony      ca  54.216309  -50.442146    43.97   \n15  2027196      balakhninskiy      ru  59.031590  114.162834    58.01   \n16  2163355             hobart      au -71.053720  144.887828   -42.88   \n17  3424934       saint-pierre      pm  36.349397  -52.358702    46.77   \n18  2014369              ulety      ru  50.817959  112.756333    51.36   \n19  1630662              praya      id -11.023820  116.119409    -8.71   \n20   934649     cap malheureux      mu -16.209322   59.039333   -19.98   \n21  3874787       punta arenas      cl -71.080498  -97.757742   -53.15   \n22  1507390             dikson      ru  86.588152   74.755165    73.51   \n23  5880054             barrow      us  77.345413 -163.530066    71.29   \n24  3359736          vredendal      za -31.105793   16.806457   -31.67   \n25  2126199           cherskiy      ru  73.877448  160.682838    68.75   \n26   978895            margate      za -39.521248   39.554911   -30.86   \n27  4032243              vaini      to -45.530660 -176.147246   -21.20   \n28  4035715             avarua      ck -32.714865 -158.752262   -21.21   \n29  3448903  sao joao da barra      br -34.807773  -20.967517   -21.64   \n30  3006414   la seyne-sur-mer      fr  41.645584    5.715936    43.10   \n31  2063030         port pirie      au -33.134380  139.384789   -33.18   \n32   485699        svetlogorsk      ru  66.227876   89.014216    54.94   \n33  1015776         bredasdorp      za -70.783115   18.837821   -34.53   \n34  2729907       longyearbyen      sj  89.890727   16.654040    78.22   \n35  1529651              altay      cn  46.583899   89.265665    47.87   \n36  3380290          sinnamary      gf  14.635141  -45.814879     5.38   \n37  3896218             castro      cl -49.557363  -91.417655   -42.47   \n38   286245                sur      lb  33.394988   35.130913    22.57   \n39   475469   verkhnetulomskiy      ru  68.454011   31.810629    68.61   \n40  2387926              bouar      cf   6.233023   15.874583     5.93   \n41  2155415        new norfolk      au -85.197268  127.649660   -42.78   \n42  2173911        broken hill      au -27.946210  141.956812   -31.95   \n43  3366880           hermanus      za -48.561027   12.520734   -34.42   \n\n    Act Lon  Temperature (F)  Humidity  Cloudiness  Wind Speed  \n0    -51.72            19.40        73          99        3.36  \n1   -158.09            76.44        74          20       11.41  \n2    102.26            61.97        33          83        2.26  \n3    115.33            73.87        31          32       11.32  \n4    168.86            57.00        73          41       17.00  \n5    -68.30            48.20        70          75        9.17  \n6   -105.25            70.34        80          42        7.14  \n7     27.42            45.32        68          12        4.41  \n8     73.08            84.06        66          22        5.23  \n9   -152.41            37.40        32           1        9.17  \n10   -14.42            81.50        77          22       14.23  \n11   170.31             4.03        88          76       16.71  \n12  -139.03            82.47        77           3       16.31  \n13   -57.56            54.16        81          40        5.82  \n14  -111.68            44.87        75          90        9.17  \n15   114.28            34.99        74          11        2.17  \n16   147.33            59.49        54          20       11.41  \n17   -56.17            31.89        95          13       17.02  \n18   112.48            45.77        33           0        5.26  \n19   116.27            84.20        79          20        3.76  \n20    57.61            77.65        83          75        3.36  \n21   -70.92            51.39        71         100       17.22  \n22    80.55            -2.18        92          52        9.55  \n23  -156.79             8.60        71          90       17.22  \n24    18.50            51.13        71           0        8.28  \n25   161.30            18.81        95         100       14.76  \n26    30.37            65.64        81         100       17.60  \n27  -175.20            75.20        88          90        6.93  \n28  -159.78            84.20        74          75        6.93  \n29   -41.05            75.40        86          12       12.55  \n30     5.88            45.99        75           0        4.70  \n31   138.02            68.00        68          40        8.05  \n32    20.15            44.60        48           0        8.95  \n33    20.04            55.56        66          66        8.05  \n34    15.64            15.80        72          75        8.05  \n35    88.12            49.62        33           0        2.26  \n36   -52.95            80.47        82         100       13.96  \n37   -73.77            41.00        86          99        5.82  \n38    59.53            81.18        48           0        3.89  \n39    31.80            24.80        92          75        6.71  \n40    15.60            67.05        73          86        4.16  \n41   147.06            58.51        54          20       11.41  \n42   141.43            64.40        45          93        4.70  \n43    19.23            56.10        67          87        8.99  ",
      "text/html": "<div>\n<style scoped>\n    .dataframe tbody tr th:only-of-type {\n        vertical-align: middle;\n    }\n\n    .dataframe tbody tr th {\n        vertical-align: top;\n    }\n\n    .dataframe thead th {\n        text-align: right;\n    }\n</style>\n<table border=\"1\" class=\"dataframe\">\n  <thead>\n    <tr style=\"text-align: right;\">\n      <th></th>\n      <th>City ID</th>\n      <th>City</th>\n      <th>Country</th>\n      <th>Orig Lat</th>\n      <th>Orig Lon</th>\n      <th>Act Lat</th>\n      <th>Act Lon</th>\n      <th>Temperature (F)</th>\n      <th>Humidity</th>\n      <th>Cloudiness</th>\n      <th>Wind Speed</th>\n    </tr>\n  </thead>\n  <tbody>\n    <tr>\n      <th>0</th>\n      <td>3421319</td>\n      <td>nuuk</td>\n      <td>gl</td>\n      <td>64.815004</td>\n      <td>-50.631260</td>\n      <td>64.18</td>\n      <td>-51.72</td>\n      <td>19.40</td>\n      <td>73</td>\n      <td>99</td>\n      <td>3.36</td>\n    </tr>\n    <tr>\n      <th>1</th>\n      <td>5850554</td>\n      <td>makakilo city</td>\n      <td>us</td>\n      <td>5.257831</td>\n      <td>-167.551466</td>\n      <td>21.35</td>\n      <td>-158.09</td>\n      <td>76.44</td>\n      <td>74</td>\n      <td>20</td>\n      <td>11.41</td>\n    </tr>\n    <tr>\n      <th>2</th>\n      <td>1789647</td>\n      <td>xichang</td>\n      <td>cn</td>\n      <td>28.194614</td>\n      <td>100.133635</td>\n      <td>27.90</td>\n      <td>102.26</td>\n      <td>61.97</td>\n      <td>33</td>\n      <td>83</td>\n      <td>2.26</td>\n    </tr>\n    <tr>\n      <th>3</th>\n      <td>2075265</td>\n      <td>busselton</td>\n      <td>au</td>\n      <td>-87.925629</td>\n      <td>75.626420</td>\n      <td>-33.65</td>\n      <td>115.33</td>\n      <td>73.87</td>\n      <td>31</td>\n      <td>32</td>\n      <td>11.32</td>\n    </tr>\n    <tr>\n      <th>4</th>\n      <td>6201424</td>\n      <td>mataura</td>\n      <td>pf</td>\n      <td>-72.268403</td>\n      <td>-141.886630</td>\n      <td>-46.19</td>\n      <td>168.86</td>\n      <td>57.00</td>\n      <td>73</td>\n      <td>41</td>\n      <td>17.00</td>\n    </tr>\n    <tr>\n      <th>5</th>\n      <td>3833367</td>\n      <td>ushuaia</td>\n      <td>ar</td>\n      <td>-65.615792</td>\n      <td>-51.861878</td>\n      <td>-54.80</td>\n      <td>-68.30</td>\n      <td>48.20</td>\n      <td>70</td>\n      <td>75</td>\n      <td>9.17</td>\n    </tr>\n    <tr>\n      <th>6</th>\n      <td>3981391</td>\n      <td>tomatlan</td>\n      <td>mx</td>\n      <td>18.131047</td>\n      <td>-107.263423</td>\n      <td>19.93</td>\n      <td>-105.25</td>\n      <td>70.34</td>\n      <td>80</td>\n      <td>42</td>\n      <td>7.14</td>\n    </tr>\n    <tr>\n      <th>7</th>\n      <td>951650</td>\n      <td>stutterheim</td>\n      <td>za</td>\n      <td>-32.251835</td>\n      <td>27.339470</td>\n      <td>-32.57</td>\n      <td>27.42</td>\n      <td>45.32</td>\n      <td>68</td>\n      <td>12</td>\n      <td>4.41</td>\n    </tr>\n    <tr>\n      <th>8</th>\n      <td>1282256</td>\n      <td>hithadhoo</td>\n      <td>mv</td>\n      <td>-8.553161</td>\n      <td>71.168992</td>\n      <td>-0.60</td>\n      <td>73.08</td>\n      <td>84.06</td>\n      <td>66</td>\n      <td>22</td>\n      <td>5.23</td>\n    </tr>\n    <tr>\n      <th>9</th>\n      <td>5866583</td>\n      <td>kodiak</td>\n      <td>us</td>\n      <td>43.067878</td>\n      <td>-157.551384</td>\n      <td>57.79</td>\n      <td>-152.41</td>\n      <td>37.40</td>\n      <td>32</td>\n      <td>1</td>\n      <td>9.17</td>\n    </tr>\n    <tr>\n      <th>10</th>\n      <td>2411397</td>\n      <td>georgetown</td>\n      <td>sh</td>\n      <td>-6.852234</td>\n      <td>-7.596112</td>\n      <td>-7.93</td>\n      <td>-14.42</td>\n      <td>81.50</td>\n      <td>77</td>\n      <td>22</td>\n      <td>14.23</td>\n    </tr>\n    <tr>\n      <th>11</th>\n      <td>2122090</td>\n      <td>pevek</td>\n      <td>ru</td>\n      <td>78.393420</td>\n      <td>168.655012</td>\n      <td>69.70</td>\n      <td>170.31</td>\n      <td>4.03</td>\n      <td>88</td>\n      <td>76</td>\n      <td>16.71</td>\n    </tr>\n    <tr>\n      <th>12</th>\n      <td>4020109</td>\n      <td>atuona</td>\n      <td>pf</td>\n      <td>10.183728</td>\n      <td>-135.943827</td>\n      <td>-9.80</td>\n      <td>-139.03</td>\n      <td>82.47</td>\n      <td>77</td>\n      <td>3</td>\n      <td>16.31</td>\n    </tr>\n    <tr>\n      <th>13</th>\n      <td>3430863</td>\n      <td>mar del plata</td>\n      <td>ar</td>\n      <td>-38.203401</td>\n      <td>-54.546565</td>\n      <td>-38.00</td>\n      <td>-57.56</td>\n      <td>54.16</td>\n      <td>81</td>\n      <td>40</td>\n      <td>5.82</td>\n    </tr>\n    <tr>\n      <th>14</th>\n      <td>5606187</td>\n      <td>saint anthony</td>\n      <td>ca</td>\n      <td>54.216309</td>\n      <td>-50.442146</td>\n      <td>43.97</td>\n      <td>-111.68</td>\n      <td>44.87</td>\n      <td>75</td>\n      <td>90</td>\n      <td>9.17</td>\n    </tr>\n    <tr>\n      <th>15</th>\n      <td>2027196</td>\n      <td>balakhninskiy</td>\n      <td>ru</td>\n      <td>59.031590</td>\n      <td>114.162834</td>\n      <td>58.01</td>\n      <td>114.28</td>\n      <td>34.99</td>\n      <td>74</td>\n      <td>11</td>\n      <td>2.17</td>\n    </tr>\n    <tr>\n      <th>16</th>\n      <td>2163355</td>\n      <td>hobart</td>\n      <td>au</td>\n      <td>-71.053720</td>\n      <td>144.887828</td>\n      <td>-42.88</td>\n      <td>147.33</td>\n      <td>59.49</td>\n      <td>54</td>\n      <td>20</td>\n      <td>11.41</td>\n    </tr>\n    <tr>\n      <th>17</th>\n      <td>3424934</td>\n      <td>saint-pierre</td>\n      <td>pm</td>\n      <td>36.349397</td>\n      <td>-52.358702</td>\n      <td>46.77</td>\n      <td>-56.17</td>\n      <td>31.89</td>\n      <td>95</td>\n      <td>13</td>\n      <td>17.02</td>\n    </tr>\n    <tr>\n      <th>18</th>\n      <td>2014369</td>\n      <td>ulety</td>\n      <td>ru</td>\n      <td>50.817959</td>\n      <td>112.756333</td>\n      <td>51.36</td>\n      <td>112.48</td>\n      <td>45.77</td>\n      <td>33</td>\n      <td>0</td>\n      <td>5.26</td>\n    </tr>\n    <tr>\n      <th>19</th>\n      <td>1630662</td>\n      <td>praya</td>\n      <td>id</td>\n      <td>-11.023820</td>\n      <td>116.119409</td>\n      <td>-8.71</td>\n      <td>116.27</td>\n      <td>84.20</td>\n      <td>79</td>\n      <td>20</td>\n      <td>3.76</td>\n    </tr>\n    <tr>\n      <th>20</th>\n      <td>934649</td>\n      <td>cap malheureux</td>\n      <td>mu</td>\n      <td>-16.209322</td>\n      <td>59.039333</td>\n      <td>-19.98</td>\n      <td>57.61</td>\n      <td>77.65</td>\n      <td>83</td>\n      <td>75</td>\n      <td>3.36</td>\n    </tr>\n    <tr>\n      <th>21</th>\n      <td>3874787</td>\n      <td>punta arenas</td>\n      <td>cl</td>\n      <td>-71.080498</td>\n      <td>-97.757742</td>\n      <td>-53.15</td>\n      <td>-70.92</td>\n      <td>51.39</td>\n      <td>71</td>\n      <td>100</td>\n      <td>17.22</td>\n    </tr>\n    <tr>\n      <th>22</th>\n      <td>1507390</td>\n      <td>dikson</td>\n      <td>ru</td>\n      <td>86.588152</td>\n      <td>74.755165</td>\n      <td>73.51</td>\n      <td>80.55</td>\n      <td>-2.18</td>\n      <td>92</td>\n      <td>52</td>\n      <td>9.55</td>\n    </tr>\n    <tr>\n      <th>23</th>\n      <td>5880054</td>\n      <td>barrow</td>\n      <td>us</td>\n      <td>77.345413</td>\n      <td>-163.530066</td>\n      <td>71.29</td>\n      <td>-156.79</td>\n      <td>8.60</td>\n      <td>71</td>\n      <td>90</td>\n      <td>17.22</td>\n    </tr>\n    <tr>\n      <th>24</th>\n      <td>3359736</td>\n      <td>vredendal</td>\n      <td>za</td>\n      <td>-31.105793</td>\n      <td>16.806457</td>\n      <td>-31.67</td>\n      <td>18.50</td>\n      <td>51.13</td>\n      <td>71</td>\n      <td>0</td>\n      <td>8.28</td>\n    </tr>\n    <tr>\n      <th>25</th>\n      <td>2126199</td>\n      <td>cherskiy</td>\n      <td>ru</td>\n      <td>73.877448</td>\n      <td>160.682838</td>\n      <td>68.75</td>\n      <td>161.30</td>\n      <td>18.81</td>\n      <td>95</td>\n      <td>100</td>\n      <td>14.76</td>\n    </tr>\n    <tr>\n      <th>26</th>\n      <td>978895</td>\n      <td>margate</td>\n      <td>za</td>\n      <td>-39.521248</td>\n      <td>39.554911</td>\n      <td>-30.86</td>\n      <td>30.37</td>\n      <td>65.64</td>\n      <td>81</td>\n      <td>100</td>\n      <td>17.60</td>\n    </tr>\n    <tr>\n      <th>27</th>\n      <td>4032243</td>\n      <td>vaini</td>\n      <td>to</td>\n      <td>-45.530660</td>\n      <td>-176.147246</td>\n      <td>-21.20</td>\n      <td>-175.20</td>\n      <td>75.20</td>\n      <td>88</td>\n      <td>90</td>\n      <td>6.93</td>\n    </tr>\n    <tr>\n      <th>28</th>\n      <td>4035715</td>\n      <td>avarua</td>\n      <td>ck</td>\n      <td>-32.714865</td>\n      <td>-158.752262</td>\n      <td>-21.21</td>\n      <td>-159.78</td>\n      <td>84.20</td>\n      <td>74</td>\n      <td>75</td>\n      <td>6.93</td>\n    </tr>\n    <tr>\n      <th>29</th>\n      <td>3448903</td>\n      <td>sao joao da barra</td>\n      <td>br</td>\n      <td>-34.807773</td>\n      <td>-20.967517</td>\n      <td>-21.64</td>\n      <td>-41.05</td>\n      <td>75.40</td>\n      <td>86</td>\n      <td>12</td>\n      <td>12.55</td>\n    </tr>\n    <tr>\n      <th>30</th>\n      <td>3006414</td>\n      <td>la seyne-sur-mer</td>\n      <td>fr</td>\n      <td>41.645584</td>\n      <td>5.715936</td>\n      <td>43.10</td>\n      <td>5.88</td>\n      <td>45.99</td>\n      <td>75</td>\n      <td>0</td>\n      <td>4.70</td>\n    </tr>\n    <tr>\n      <th>31</th>\n      <td>2063030</td>\n      <td>port pirie</td>\n      <td>au</td>\n      <td>-33.134380</td>\n      <td>139.384789</td>\n      <td>-33.18</td>\n      <td>138.02</td>\n      <td>68.00</td>\n      <td>68</td>\n      <td>40</td>\n      <td>8.05</td>\n    </tr>\n    <tr>\n      <th>32</th>\n      <td>485699</td>\n      <td>svetlogorsk</td>\n      <td>ru</td>\n      <td>66.227876</td>\n      <td>89.014216</td>\n      <td>54.94</td>\n      <td>20.15</td>\n      <td>44.60</td>\n      <td>48</td>\n      <td>0</td>\n      <td>8.95</td>\n    </tr>\n    <tr>\n      <th>33</th>\n      <td>1015776</td>\n      <td>bredasdorp</td>\n      <td>za</td>\n      <td>-70.783115</td>\n      <td>18.837821</td>\n      <td>-34.53</td>\n      <td>20.04</td>\n      <td>55.56</td>\n      <td>66</td>\n      <td>66</td>\n      <td>8.05</td>\n    </tr>\n    <tr>\n      <th>34</th>\n      <td>2729907</td>\n      <td>longyearbyen</td>\n      <td>sj</td>\n      <td>89.890727</td>\n      <td>16.654040</td>\n      <td>78.22</td>\n      <td>15.64</td>\n      <td>15.80</td>\n      <td>72</td>\n      <td>75</td>\n      <td>8.05</td>\n    </tr>\n    <tr>\n      <th>35</th>\n      <td>1529651</td>\n      <td>altay</td>\n      <td>cn</td>\n      <td>46.583899</td>\n      <td>89.265665</td>\n      <td>47.87</td>\n      <td>88.12</td>\n      <td>49.62</td>\n      <td>33</td>\n      <td>0</td>\n      <td>2.26</td>\n    </tr>\n    <tr>\n      <th>36</th>\n      <td>3380290</td>\n      <td>sinnamary</td>\n      <td>gf</td>\n      <td>14.635141</td>\n      <td>-45.814879</td>\n      <td>5.38</td>\n      <td>-52.95</td>\n      <td>80.47</td>\n      <td>82</td>\n      <td>100</td>\n      <td>13.96</td>\n    </tr>\n    <tr>\n      <th>37</th>\n      <td>3896218</td>\n      <td>castro</td>\n      <td>cl</td>\n      <td>-49.557363</td>\n      <td>-91.417655</td>\n      <td>-42.47</td>\n      <td>-73.77</td>\n      <td>41.00</td>\n      <td>86</td>\n      <td>99</td>\n      <td>5.82</td>\n    </tr>\n    <tr>\n      <th>38</th>\n      <td>286245</td>\n      <td>sur</td>\n      <td>lb</td>\n      <td>33.394988</td>\n      <td>35.130913</td>\n      <td>22.57</td>\n      <td>59.53</td>\n      <td>81.18</td>\n      <td>48</td>\n      <td>0</td>\n      <td>3.89</td>\n    </tr>\n    <tr>\n      <th>39</th>\n      <td>475469</td>\n      <td>verkhnetulomskiy</td>\n      <td>ru</td>\n      <td>68.454011</td>\n      <td>31.810629</td>\n      <td>68.61</td>\n      <td>31.80</td>\n      <td>24.80</td>\n      <td>92</td>\n      <td>75</td>\n      <td>6.71</td>\n    </tr>\n    <tr>\n      <th>40</th>\n      <td>2387926</td>\n      <td>bouar</td>\n      <td>cf</td>\n      <td>6.233023</td>\n      <td>15.874583</td>\n      <td>5.93</td>\n      <td>15.60</td>\n      <td>67.05</td>\n      <td>73</td>\n      <td>86</td>\n      <td>4.16</td>\n    </tr>\n    <tr>\n      <th>41</th>\n      <td>2155415</td>\n      <td>new norfolk</td>\n      <td>au</td>\n      <td>-85.197268</td>\n      <td>127.649660</td>\n      <td>-42.78</td>\n      <td>147.06</td>\n      <td>58.51</td>\n      <td>54</td>\n      <td>20</td>\n      <td>11.41</td>\n    </tr>\n    <tr>\n      <th>42</th>\n      <td>2173911</td>\n      <td>broken hill</td>\n      <td>au</td>\n      <td>-27.946210</td>\n      <td>141.956812</td>\n      <td>-31.95</td>\n      <td>141.43</td>\n      <td>64.40</td>\n      <td>45</td>\n      <td>93</td>\n      <td>4.70</td>\n    </tr>\n    <tr>\n      <th>43</th>\n      <td>3366880</td>\n      <td>hermanus</td>\n      <td>za</td>\n      <td>-48.561027</td>\n      <td>12.520734</td>\n      <td>-34.42</td>\n      <td>19.23</td>\n      <td>56.10</td>\n      <td>67</td>\n      <td>87</td>\n      <td>8.99</td>\n    </tr>\n  </tbody>\n</table>\n</div>"
     },
     "metadata": {},
     "execution_count": 95
    }
   ],
   "source": [
    "city_data = pd.DataFrame(columns=['City ID', 'City', 'Country', 'Orig Lat', 'Orig Lon', 'Act Lat', 'Act Lon', 'Temperature (F)', 'Humidity', 'Cloudiness', 'Wind Speed'])\n",
    "\n",
    "city_data['City ID'] = city_ID\n",
    "city_data['City'] = cities\n",
    "city_data['Country'] = countries\n",
    "city_data['Orig Lat'] = orig_latitude\n",
    "city_data['Orig Lon'] = orig_longitude\n",
    "city_data['Act Lat'] = city_latitude\n",
    "city_data['Act Lon'] = city_longitude\n",
    "city_data['Temperature (F)'] = city_temp\n",
    "city_data['Humidity'] = city_humidity\n",
    "city_data['Cloudiness'] = city_clouds_pct\n",
    "city_data['Wind Speed'] = city_windspeed\n",
    "\n",
    "print('The total number of cities added is '+str(len(city_data)))\n",
    "\n",
    "city_data.to_csv('test_city_data')\n",
    "\n",
    "city_data"
   ]
  },
  {
   "cell_type": "code",
   "execution_count": null,
   "metadata": {},
   "outputs": [],
   "source": []
  },
  {
   "cell_type": "markdown",
   "metadata": {},
   "source": [
    "## Inspect the data and remove the cities where the humidity > 100%.\n",
    "----\n",
    "Skip this step if there are no cities that have humidity > 100%. "
   ],
   "execution_count": null,
   "outputs": []
  },
  {
   "cell_type": "code",
   "execution_count": null,
   "metadata": {},
   "outputs": [],
   "source": []
  },
  {
   "cell_type": "code",
   "execution_count": 96,
   "metadata": {},
   "outputs": [],
   "source": [
    "#  Get the indices of cities that have humidity over 100%.\n",
    ""
   ]
  },
  {
   "cell_type": "code",
   "execution_count": 97,
   "metadata": {},
   "outputs": [],
   "source": [
    "# Make a new DataFrame equal to the city data to drop all humidity outliers by index.\n",
    "# Passing \"inplace=False\" will make a copy of the city_data DataFrame, which we call \"clean_city_data\".\n",
    ""
   ]
  },
  {
   "cell_type": "code",
   "execution_count": 98,
   "metadata": {},
   "outputs": [],
   "source": [
    "# Extract relevant fields from the data frame\n",
    "\n",
    "\n",
    "# Export the City_Data into a csv\n",
    ""
   ]
  },
  {
   "cell_type": "markdown",
   "metadata": {},
   "source": [
    "## Plotting the Data\n",
    "* Use proper labeling of the plots using plot titles (including date of analysis) and axes labels.\n",
    "* Save the plotted figures as .pngs."
   ],
   "execution_count": null,
   "outputs": []
  },
  {
   "cell_type": "markdown",
   "metadata": {},
   "source": [
    "## Latitude vs. Temperature Plot"
   ],
   "execution_count": null,
   "outputs": []
  },
  {
   "cell_type": "code",
   "execution_count": null,
   "metadata": {
    "scrolled": true
   },
   "outputs": [],
   "source": []
  },
  {
   "cell_type": "markdown",
   "metadata": {},
   "source": [
    "## Latitude vs. Humidity Plot"
   ],
   "execution_count": null,
   "outputs": []
  },
  {
   "cell_type": "code",
   "execution_count": null,
   "metadata": {},
   "outputs": [],
   "source": []
  },
  {
   "cell_type": "markdown",
   "metadata": {},
   "source": [
    "## Latitude vs. Cloudiness Plot"
   ],
   "execution_count": null,
   "outputs": []
  },
  {
   "cell_type": "code",
   "execution_count": null,
   "metadata": {},
   "outputs": [],
   "source": []
  },
  {
   "cell_type": "markdown",
   "metadata": {},
   "source": [
    "## Latitude vs. Wind Speed Plot"
   ],
   "execution_count": null,
   "outputs": []
  },
  {
   "cell_type": "code",
   "execution_count": null,
   "metadata": {},
   "outputs": [],
   "source": []
  },
  {
   "cell_type": "markdown",
   "metadata": {},
   "source": [
    "## Linear Regression"
   ],
   "execution_count": null,
   "outputs": []
  },
  {
   "cell_type": "code",
   "execution_count": 99,
   "metadata": {},
   "outputs": [],
   "source": [
    "# OPTIONAL: Create a function to create Linear Regression plots"
   ]
  },
  {
   "cell_type": "code",
   "execution_count": 100,
   "metadata": {},
   "outputs": [],
   "source": [
    "# Create Northern and Southern Hemisphere DataFrames"
   ]
  },
  {
   "cell_type": "markdown",
   "metadata": {},
   "source": [
    "####  Northern Hemisphere - Max Temp vs. Latitude Linear Regression"
   ],
   "execution_count": null,
   "outputs": []
  },
  {
   "cell_type": "code",
   "execution_count": null,
   "metadata": {},
   "outputs": [],
   "source": []
  },
  {
   "cell_type": "markdown",
   "metadata": {},
   "source": [
    "####  Southern Hemisphere - Max Temp vs. Latitude Linear Regression"
   ],
   "execution_count": null,
   "outputs": []
  },
  {
   "cell_type": "code",
   "execution_count": null,
   "metadata": {},
   "outputs": [],
   "source": []
  },
  {
   "cell_type": "markdown",
   "metadata": {},
   "source": [
    "####  Northern Hemisphere - Humidity (%) vs. Latitude Linear Regression"
   ],
   "execution_count": null,
   "outputs": []
  },
  {
   "cell_type": "code",
   "execution_count": null,
   "metadata": {},
   "outputs": [],
   "source": []
  },
  {
   "cell_type": "markdown",
   "metadata": {},
   "source": [
    "####  Southern Hemisphere - Humidity (%) vs. Latitude Linear Regression"
   ],
   "execution_count": null,
   "outputs": []
  },
  {
   "cell_type": "code",
   "execution_count": null,
   "metadata": {},
   "outputs": [],
   "source": []
  },
  {
   "cell_type": "markdown",
   "metadata": {},
   "source": [
    "####  Northern Hemisphere - Cloudiness (%) vs. Latitude Linear Regression"
   ],
   "execution_count": null,
   "outputs": []
  },
  {
   "cell_type": "code",
   "execution_count": null,
   "metadata": {},
   "outputs": [],
   "source": []
  },
  {
   "cell_type": "markdown",
   "metadata": {},
   "source": [
    "####  Southern Hemisphere - Cloudiness (%) vs. Latitude Linear Regression"
   ],
   "execution_count": null,
   "outputs": []
  },
  {
   "cell_type": "code",
   "execution_count": null,
   "metadata": {},
   "outputs": [],
   "source": []
  },
  {
   "cell_type": "markdown",
   "metadata": {},
   "source": [
    "####  Northern Hemisphere - Wind Speed (mph) vs. Latitude Linear Regression"
   ],
   "execution_count": null,
   "outputs": []
  },
  {
   "cell_type": "code",
   "execution_count": null,
   "metadata": {},
   "outputs": [],
   "source": []
  },
  {
   "cell_type": "markdown",
   "metadata": {},
   "source": [
    "####  Southern Hemisphere - Wind Speed (mph) vs. Latitude Linear Regression"
   ],
   "execution_count": null,
   "outputs": []
  },
  {
   "cell_type": "code",
   "execution_count": null,
   "metadata": {},
   "outputs": [],
   "source": []
  },
  {
   "cell_type": "code",
   "execution_count": null,
   "metadata": {},
   "outputs": [],
   "source": []
  }
 ],
 "metadata": {
  "anaconda-cloud": {},
  "kernel_info": {
   "name": "python3"
  },
  "kernelspec": {
   "display_name": "Python 3.6.10 64-bit ('PythonData': conda)",
   "language": "python",
   "name": "python361064bitpythondatacondaab47c43dfe824d4eb95e9e8f15b48370"
  },
  "language_info": {
   "codemirror_mode": {
    "name": "ipython",
    "version": 3
   },
   "file_extension": ".py",
   "mimetype": "text/x-python",
   "name": "python",
   "nbconvert_exporter": "python",
   "pygments_lexer": "ipython3",
   "version": "3.6.10-final"
  },
  "latex_envs": {
   "LaTeX_envs_menu_present": true,
   "autoclose": false,
   "autocomplete": true,
   "bibliofile": "biblio.bib",
   "cite_by": "apalike",
   "current_citInitial": 1,
   "eqLabelWithNumbers": true,
   "eqNumInitial": 1,
   "hotkeys": {
    "equation": "Ctrl-E",
    "itemize": "Ctrl-I"
   },
   "labels_anchors": false,
   "latex_user_defs": false,
   "report_style_numbering": false,
   "user_envs_cfg": false
  },
  "nteract": {
   "version": "0.12.3"
  }
 },
 "nbformat": 4,
 "nbformat_minor": 2
}
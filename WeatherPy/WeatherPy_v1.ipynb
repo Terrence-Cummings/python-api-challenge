{
 "cells": [
  {
   "cell_type": "markdown",
   "metadata": {},
   "source": [
    "# WeatherPy\n",
    "----\n",
    "\n",
    "#### Note\n",
    "* Instructions have been included for each segment. You do not have to follow them exactly, but they are included to help you think through the steps."
   ],
   "execution_count": null,
   "outputs": []
  },
  {
   "cell_type": "code",
   "execution_count": 101,
   "metadata": {
    "scrolled": true
   },
   "outputs": [],
   "source": [
    "# Dependencies and Setup\n",
    "import matplotlib.pyplot as plt\n",
    "import pandas as pd\n",
    "import numpy as np\n",
    "import requests\n",
    "import time\n",
    "from scipy.stats import linregress\n",
    "import requests\n",
    "import json\n",
    "from pprint import pprint\n",
    "\n",
    "# Import API key\n",
    "from api_keys import weather_api_key\n",
    "\n",
    "# Incorporated citipy to determine city based on latitude and longitude\n",
    "from citipy import citipy\n",
    "\n",
    "# Output File (CSV)\n",
    "output_data_file = \"output_data/cities.csv\"\n",
    "\n",
    "# Range of latitudes and longitudes\n",
    "lat_range = (-90, 90)\n",
    "lng_range = (-180, 180)\n",
    ""
   ]
  },
  {
   "cell_type": "markdown",
   "metadata": {},
   "source": [
    "## Generate Cities List"
   ],
   "execution_count": null,
   "outputs": []
  },
  {
   "cell_type": "code",
   "execution_count": 102,
   "metadata": {
    "tags": [
     "outputPrepend"
    ]
   },
   "outputs": [],
   "source": [
    "# List for holding lat_lngs and cities\n",
    "\n",
    "lat_lngs = []\n",
    "cities = []\n",
    "countries=[]\n",
    "orig_latitude=[]\n",
    "orig_longitude=[]\n",
    "\n",
    "\n",
    "# Create a set of random lat and lng combinations\n",
    "lats = np.random.uniform(lat_range[0], lat_range[1], size=50)\n",
    "lngs = np.random.uniform(lng_range[0], lng_range[1], size=50)\n",
    "lat_lngs = zip(lats, lngs)\n",
    "\n",
    "# Identify nearest city for each lat, lng combination\n",
    "for lat_lng in lat_lngs:\n",
    "    city = citipy.nearest_city(lat_lng[0], lat_lng[1]).city_name\n",
    "    country = citipy.nearest_city(lat_lng[0], lat_lng[1]).country_code\n",
    "    if city not in cities:\n",
    "        cities.append(city)\n",
    "        countries.append(country)\n",
    "        orig_latitude.append(lat_lng[0])\n",
    "        orig_longitude.append(lat_lng[1])\n",
    "\n",
    "city_country_lat_lon = zip(cities, countries, orig_latitude, orig_longitude)"
   ]
  },
  {
   "cell_type": "markdown",
   "metadata": {},
   "source": [
    "### Perform API Calls\n",
    "* Perform a weather check on each city using a series of successive API calls.\n",
    "* Include a print log of each city as it's being processed (with the city number and city name).\n",
    "\n",
    "Temperature (F) vs. Latitude\n",
    "\n",
    "Humidity (%) vs. Latitude\n",
    "\n",
    "Cloudiness (%) vs. Latitude\n",
    "\n",
    "Wind Speed (mph) vs. Latitude\n",
    "\n"
   ],
   "execution_count": null,
   "outputs": []
  },
  {
   "cell_type": "code",
   "execution_count": 103,
   "metadata": {},
   "outputs": [
    {
     "output_type": "stream",
     "name": "stdout",
     "text": "3984997: san quintin found and added!\n6165406: thompson found and added!\n1632694: pangkalanbuun found and added!\n1272140: dwarka found and added!\n1254909: tarana found and added!\n5848280: kapaa found and added!\n4032243: vaini found and added!\n3372707: ribeira grande found and added!\ntaolanaro not found at OpenWeather API!\ndzhusaly not found at OpenWeather API!\n4030556: rikitea found and added!\n255689: patitirion found and added!\n6201424: mataura found and added!\n3374083: bathsheba found and added!\n2082539: merauke found and added!\n4271086: emporia found and added!\n3448011: saquarema found and added!\n3868707: valdivia found and added!\n5563397: eureka found and added!\n3985710: cabo san lucas found and added!\n3899539: antofagasta found and added!\n3392145: picui found and added!\n4035715: avarua found and added!\n3451138: rio grande found and added!\n3833367: ushuaia found and added!\nilloqqortoormiut not found at OpenWeather API!\n1529376: korla found and added!\nmys shmidta not found at OpenWeather API!\nnaftah not found at OpenWeather API!\n2123814: leningradskiy found and added!\n3932145: pisco found and added!\n2126682: bilibino found and added!\n3874787: punta arenas found and added!\n2160735: lakes entrance found and added!\n5374920: morro bay found and added!\n1263532: margherita found and added!\n64814: bandarbeyla found and added!\n1814093: dali found and added!\n3421765: nanortalik found and added!\n3693584: pimentel found and added!\n3933104: pangoa found and added!\n5866583: kodiak found and added!\n\nFINISHED PROCESSING WEATHER APIs\n"
    }
   ],
   "source": [
    "#Example of OpenWeather API call http://api.openweathermap.org/data/2.5/weather?q=London,uk&APPID=973d76a9421d572f47622e44bcca1876\n",
    "#http://api.openweathermap.org/data/2.5/weather?q={city name},{state},{country code}&units=imperial&appid={your api key}\n",
    "\n",
    "city_ID=[]\n",
    "city_temp=[]\n",
    "city_humidity=[]\n",
    "city_clouds_pct=[]\n",
    "city_windspeed=[]\n",
    "city_latitude=[]\n",
    "city_longitude=[]\n",
    "cities = []\n",
    "countries=[]\n",
    "orig_latitude=[]\n",
    "orig_longitude=[]\n",
    "\n",
    "for city_loop, country_loop, lat_loop, lon_loop in city_country_lat_lon:\n",
    "    city_name = city_loop\n",
    "    country_name = country_loop\n",
    "    url = 'http://api.openweathermap.org/data/2.5/weather?q='+city_name+',,'+country_name+'&units=imperial&appid='+weather_api_key\n",
    "    res = requests.get(url)\n",
    "    if res.status_code != 200:    \n",
    "        print(city_name+' not found at OpenWeather API!')\n",
    "        continue\n",
    "    response = res.json()\n",
    "    print(str(response['id'])+\": \"+city_name+' found and added!')\n",
    "    city_ID.append(response['id'])\n",
    "    cities.append(city_name)\n",
    "    countries.append(country_name)\n",
    "    orig_latitude.append(lat_loop)\n",
    "    orig_longitude.append(lon_loop)\n",
    "    city_temp.append(response['main']['temp'])\n",
    "    city_humidity.append(response['main']['humidity'])\n",
    "    city_clouds_pct.append(response['clouds']['all'])\n",
    "    city_windspeed.append(response['wind']['speed'])\n",
    "    city_latitude.append(response['coord']['lat'])\n",
    "    city_longitude.append(response['coord']['lon'])\n",
    "\n",
    "print('')\n",
    "print('FINISHED PROCESSING WEATHER APIs')"
   ]
  },
  {
   "cell_type": "markdown",
   "metadata": {},
   "source": [
    "### Convert Raw Data to DataFrame\n",
    "* Export the city data into a .csv.\n",
    "* Display the DataFrame"
   ],
   "execution_count": null,
   "outputs": []
  },
  {
   "cell_type": "code",
   "execution_count": 104,
   "metadata": {},
   "outputs": [
    {
     "output_type": "stream",
     "name": "stdout",
     "text": "The total number of cities added is 37\n"
    },
    {
     "output_type": "execute_result",
     "data": {
      "text/plain": "    City ID            City Country   Orig Lat    Orig Lon  Act Lat  Act Lon  \\\n0   3984997     san quintin      mx  25.843829 -121.798307    30.48  -115.95   \n1   6165406        thompson      ca  68.267491  -91.406675    55.74   -97.86   \n2   1632694   pangkalanbuun      id  -0.802571  112.030068    -2.68   111.62   \n3   1272140          dwarka      in  20.196405   65.061911    22.24    68.97   \n4   1254909          tarana      in  23.490576   76.076791    23.33    76.03   \n5   5848280           kapaa      us  16.758855 -171.391973    22.08  -159.32   \n6   4032243           vaini      to -39.932571 -169.610744   -21.20  -175.20   \n7   3372707  ribeira grande      pt  26.625230  -42.129452    38.52   -28.70   \n8   4030556         rikitea      pf -62.197906 -131.769964   -23.12  -134.97   \n9    255689      patitirion      gr  39.374692   23.953942    39.15    23.87   \n10  6201424         mataura      pf -31.318460 -149.581446   -46.19   168.86   \n11  3374083       bathsheba      bb  14.904978  -58.030582    13.22   -59.52   \n12  2082539         merauke      id  -8.513067  139.405055    -8.47   140.33   \n13  4271086         emporia      us  38.254677  -96.535668    38.40   -96.18   \n14  3448011       saquarema      br -23.484821  -42.563828   -22.92   -42.51   \n15  3868707        valdivia      cl -39.329001  -76.441624   -39.81   -73.25   \n16  5563397          eureka      us  40.239081 -140.886028    40.80  -124.16   \n17  3985710  cabo san lucas      mx  12.495531 -119.294803    22.89  -109.91   \n18  3899539     antofagasta      cl -22.811140  -72.686986   -23.65   -70.40   \n19  3392145           picui      br  -6.741649  -36.420867    -6.51   -36.35   \n20  4035715          avarua      ck -29.369272 -163.747550   -21.21  -159.78   \n21  3451138      rio grande      br -40.355575  -42.705880   -32.03   -52.10   \n22  3833367         ushuaia      ar -81.975190  -86.306216   -54.80   -68.30   \n23  1529376           korla      cn  39.673574   85.989520    41.76    86.15   \n24  2123814   leningradskiy      ru  73.492261  176.301306    69.38   178.42   \n25  3932145           pisco      pe -22.611325  -90.795557   -13.70   -76.22   \n26  2126682        bilibino      ru  67.751502  166.524893    68.05   166.44   \n27  3874787    punta arenas      cl -68.747148  -84.863588   -53.15   -70.92   \n28  2160735  lakes entrance      au -39.209145  150.629290   -37.88   147.98   \n29  5374920       morro bay      us  33.898427 -123.386532    35.37  -120.85   \n30  1263532      margherita      in  27.206064   95.951427    27.28    95.68   \n31    64814     bandarbeyla      so   7.097202   56.402911     9.49    50.81   \n32  1814093            dali      cn  25.006491   99.215176    25.70   100.18   \n33  3421765      nanortalik      gl  51.645251  -37.868415    60.14   -45.24   \n34  3693584        pimentel      pe  -7.956294  -81.491729    -6.84   -79.93   \n35  3933104          pangoa      pe -11.220619  -73.399396   -12.12   -73.00   \n36  5866583          kodiak      us  52.462453 -154.742316    57.79  -152.41   \n\n    Temperature (F)  Humidity  Cloudiness  Wind Speed  \n0             60.44        68           3        4.68  \n1             23.00        73          75        8.05  \n2             85.12        69          60        4.76  \n3             78.08        78           0        5.50  \n4             84.74        13           0        3.91  \n5             79.47        69           1       17.22  \n6             75.20        88          90        6.93  \n7             63.45        90          97       15.66  \n8             76.42        69          99        8.48  \n9             39.00        94         100        5.99  \n10            57.00        73          41       18.99  \n11            80.60        78          40       17.22  \n12            89.28        53          49        5.32  \n13            65.98        72          40        9.17  \n14            75.97        88          20       12.75  \n15            53.60        50          43       11.41  \n16            52.54        71           1       14.99  \n17            73.27        47          90        9.17  \n18            64.40        82          40        5.82  \n19            72.23        82          82       12.50  \n20            84.20        74          75        6.93  \n21            61.00        60           0       19.93  \n22            48.20        70          75        9.17  \n23            59.00        58          73        3.38  \n24             9.77        86          48        4.52  \n25            72.81        83          75        6.93  \n26            11.77        89          99        5.99  \n27            51.39        71         100       17.22  \n28            62.01        57          95        1.01  \n29            53.98        50           1        8.05  \n30            69.80        77          75        3.36  \n31            78.80        67           0        5.21  \n32            66.92        17           0        5.55  \n33            27.12        89           8       21.32  \n34            72.84        80          70       10.45  \n35            70.56        75          68        1.86  \n36            37.40        32           1        9.17  ",
      "text/html": "<div>\n<style scoped>\n    .dataframe tbody tr th:only-of-type {\n        vertical-align: middle;\n    }\n\n    .dataframe tbody tr th {\n        vertical-align: top;\n    }\n\n    .dataframe thead th {\n        text-align: right;\n    }\n</style>\n<table border=\"1\" class=\"dataframe\">\n  <thead>\n    <tr style=\"text-align: right;\">\n      <th></th>\n      <th>City ID</th>\n      <th>City</th>\n      <th>Country</th>\n      <th>Orig Lat</th>\n      <th>Orig Lon</th>\n      <th>Act Lat</th>\n      <th>Act Lon</th>\n      <th>Temperature (F)</th>\n      <th>Humidity</th>\n      <th>Cloudiness</th>\n      <th>Wind Speed</th>\n    </tr>\n  </thead>\n  <tbody>\n    <tr>\n      <th>0</th>\n      <td>3984997</td>\n      <td>san quintin</td>\n      <td>mx</td>\n      <td>25.843829</td>\n      <td>-121.798307</td>\n      <td>30.48</td>\n      <td>-115.95</td>\n      <td>60.44</td>\n      <td>68</td>\n      <td>3</td>\n      <td>4.68</td>\n    </tr>\n    <tr>\n      <th>1</th>\n      <td>6165406</td>\n      <td>thompson</td>\n      <td>ca</td>\n      <td>68.267491</td>\n      <td>-91.406675</td>\n      <td>55.74</td>\n      <td>-97.86</td>\n      <td>23.00</td>\n      <td>73</td>\n      <td>75</td>\n      <td>8.05</td>\n    </tr>\n    <tr>\n      <th>2</th>\n      <td>1632694</td>\n      <td>pangkalanbuun</td>\n      <td>id</td>\n      <td>-0.802571</td>\n      <td>112.030068</td>\n      <td>-2.68</td>\n      <td>111.62</td>\n      <td>85.12</td>\n      <td>69</td>\n      <td>60</td>\n      <td>4.76</td>\n    </tr>\n    <tr>\n      <th>3</th>\n      <td>1272140</td>\n      <td>dwarka</td>\n      <td>in</td>\n      <td>20.196405</td>\n      <td>65.061911</td>\n      <td>22.24</td>\n      <td>68.97</td>\n      <td>78.08</td>\n      <td>78</td>\n      <td>0</td>\n      <td>5.50</td>\n    </tr>\n    <tr>\n      <th>4</th>\n      <td>1254909</td>\n      <td>tarana</td>\n      <td>in</td>\n      <td>23.490576</td>\n      <td>76.076791</td>\n      <td>23.33</td>\n      <td>76.03</td>\n      <td>84.74</td>\n      <td>13</td>\n      <td>0</td>\n      <td>3.91</td>\n    </tr>\n    <tr>\n      <th>5</th>\n      <td>5848280</td>\n      <td>kapaa</td>\n      <td>us</td>\n      <td>16.758855</td>\n      <td>-171.391973</td>\n      <td>22.08</td>\n      <td>-159.32</td>\n      <td>79.47</td>\n      <td>69</td>\n      <td>1</td>\n      <td>17.22</td>\n    </tr>\n    <tr>\n      <th>6</th>\n      <td>4032243</td>\n      <td>vaini</td>\n      <td>to</td>\n      <td>-39.932571</td>\n      <td>-169.610744</td>\n      <td>-21.20</td>\n      <td>-175.20</td>\n      <td>75.20</td>\n      <td>88</td>\n      <td>90</td>\n      <td>6.93</td>\n    </tr>\n    <tr>\n      <th>7</th>\n      <td>3372707</td>\n      <td>ribeira grande</td>\n      <td>pt</td>\n      <td>26.625230</td>\n      <td>-42.129452</td>\n      <td>38.52</td>\n      <td>-28.70</td>\n      <td>63.45</td>\n      <td>90</td>\n      <td>97</td>\n      <td>15.66</td>\n    </tr>\n    <tr>\n      <th>8</th>\n      <td>4030556</td>\n      <td>rikitea</td>\n      <td>pf</td>\n      <td>-62.197906</td>\n      <td>-131.769964</td>\n      <td>-23.12</td>\n      <td>-134.97</td>\n      <td>76.42</td>\n      <td>69</td>\n      <td>99</td>\n      <td>8.48</td>\n    </tr>\n    <tr>\n      <th>9</th>\n      <td>255689</td>\n      <td>patitirion</td>\n      <td>gr</td>\n      <td>39.374692</td>\n      <td>23.953942</td>\n      <td>39.15</td>\n      <td>23.87</td>\n      <td>39.00</td>\n      <td>94</td>\n      <td>100</td>\n      <td>5.99</td>\n    </tr>\n    <tr>\n      <th>10</th>\n      <td>6201424</td>\n      <td>mataura</td>\n      <td>pf</td>\n      <td>-31.318460</td>\n      <td>-149.581446</td>\n      <td>-46.19</td>\n      <td>168.86</td>\n      <td>57.00</td>\n      <td>73</td>\n      <td>41</td>\n      <td>18.99</td>\n    </tr>\n    <tr>\n      <th>11</th>\n      <td>3374083</td>\n      <td>bathsheba</td>\n      <td>bb</td>\n      <td>14.904978</td>\n      <td>-58.030582</td>\n      <td>13.22</td>\n      <td>-59.52</td>\n      <td>80.60</td>\n      <td>78</td>\n      <td>40</td>\n      <td>17.22</td>\n    </tr>\n    <tr>\n      <th>12</th>\n      <td>2082539</td>\n      <td>merauke</td>\n      <td>id</td>\n      <td>-8.513067</td>\n      <td>139.405055</td>\n      <td>-8.47</td>\n      <td>140.33</td>\n      <td>89.28</td>\n      <td>53</td>\n      <td>49</td>\n      <td>5.32</td>\n    </tr>\n    <tr>\n      <th>13</th>\n      <td>4271086</td>\n      <td>emporia</td>\n      <td>us</td>\n      <td>38.254677</td>\n      <td>-96.535668</td>\n      <td>38.40</td>\n      <td>-96.18</td>\n      <td>65.98</td>\n      <td>72</td>\n      <td>40</td>\n      <td>9.17</td>\n    </tr>\n    <tr>\n      <th>14</th>\n      <td>3448011</td>\n      <td>saquarema</td>\n      <td>br</td>\n      <td>-23.484821</td>\n      <td>-42.563828</td>\n      <td>-22.92</td>\n      <td>-42.51</td>\n      <td>75.97</td>\n      <td>88</td>\n      <td>20</td>\n      <td>12.75</td>\n    </tr>\n    <tr>\n      <th>15</th>\n      <td>3868707</td>\n      <td>valdivia</td>\n      <td>cl</td>\n      <td>-39.329001</td>\n      <td>-76.441624</td>\n      <td>-39.81</td>\n      <td>-73.25</td>\n      <td>53.60</td>\n      <td>50</td>\n      <td>43</td>\n      <td>11.41</td>\n    </tr>\n    <tr>\n      <th>16</th>\n      <td>5563397</td>\n      <td>eureka</td>\n      <td>us</td>\n      <td>40.239081</td>\n      <td>-140.886028</td>\n      <td>40.80</td>\n      <td>-124.16</td>\n      <td>52.54</td>\n      <td>71</td>\n      <td>1</td>\n      <td>14.99</td>\n    </tr>\n    <tr>\n      <th>17</th>\n      <td>3985710</td>\n      <td>cabo san lucas</td>\n      <td>mx</td>\n      <td>12.495531</td>\n      <td>-119.294803</td>\n      <td>22.89</td>\n      <td>-109.91</td>\n      <td>73.27</td>\n      <td>47</td>\n      <td>90</td>\n      <td>9.17</td>\n    </tr>\n    <tr>\n      <th>18</th>\n      <td>3899539</td>\n      <td>antofagasta</td>\n      <td>cl</td>\n      <td>-22.811140</td>\n      <td>-72.686986</td>\n      <td>-23.65</td>\n      <td>-70.40</td>\n      <td>64.40</td>\n      <td>82</td>\n      <td>40</td>\n      <td>5.82</td>\n    </tr>\n    <tr>\n      <th>19</th>\n      <td>3392145</td>\n      <td>picui</td>\n      <td>br</td>\n      <td>-6.741649</td>\n      <td>-36.420867</td>\n      <td>-6.51</td>\n      <td>-36.35</td>\n      <td>72.23</td>\n      <td>82</td>\n      <td>82</td>\n      <td>12.50</td>\n    </tr>\n    <tr>\n      <th>20</th>\n      <td>4035715</td>\n      <td>avarua</td>\n      <td>ck</td>\n      <td>-29.369272</td>\n      <td>-163.747550</td>\n      <td>-21.21</td>\n      <td>-159.78</td>\n      <td>84.20</td>\n      <td>74</td>\n      <td>75</td>\n      <td>6.93</td>\n    </tr>\n    <tr>\n      <th>21</th>\n      <td>3451138</td>\n      <td>rio grande</td>\n      <td>br</td>\n      <td>-40.355575</td>\n      <td>-42.705880</td>\n      <td>-32.03</td>\n      <td>-52.10</td>\n      <td>61.00</td>\n      <td>60</td>\n      <td>0</td>\n      <td>19.93</td>\n    </tr>\n    <tr>\n      <th>22</th>\n      <td>3833367</td>\n      <td>ushuaia</td>\n      <td>ar</td>\n      <td>-81.975190</td>\n      <td>-86.306216</td>\n      <td>-54.80</td>\n      <td>-68.30</td>\n      <td>48.20</td>\n      <td>70</td>\n      <td>75</td>\n      <td>9.17</td>\n    </tr>\n    <tr>\n      <th>23</th>\n      <td>1529376</td>\n      <td>korla</td>\n      <td>cn</td>\n      <td>39.673574</td>\n      <td>85.989520</td>\n      <td>41.76</td>\n      <td>86.15</td>\n      <td>59.00</td>\n      <td>58</td>\n      <td>73</td>\n      <td>3.38</td>\n    </tr>\n    <tr>\n      <th>24</th>\n      <td>2123814</td>\n      <td>leningradskiy</td>\n      <td>ru</td>\n      <td>73.492261</td>\n      <td>176.301306</td>\n      <td>69.38</td>\n      <td>178.42</td>\n      <td>9.77</td>\n      <td>86</td>\n      <td>48</td>\n      <td>4.52</td>\n    </tr>\n    <tr>\n      <th>25</th>\n      <td>3932145</td>\n      <td>pisco</td>\n      <td>pe</td>\n      <td>-22.611325</td>\n      <td>-90.795557</td>\n      <td>-13.70</td>\n      <td>-76.22</td>\n      <td>72.81</td>\n      <td>83</td>\n      <td>75</td>\n      <td>6.93</td>\n    </tr>\n    <tr>\n      <th>26</th>\n      <td>2126682</td>\n      <td>bilibino</td>\n      <td>ru</td>\n      <td>67.751502</td>\n      <td>166.524893</td>\n      <td>68.05</td>\n      <td>166.44</td>\n      <td>11.77</td>\n      <td>89</td>\n      <td>99</td>\n      <td>5.99</td>\n    </tr>\n    <tr>\n      <th>27</th>\n      <td>3874787</td>\n      <td>punta arenas</td>\n      <td>cl</td>\n      <td>-68.747148</td>\n      <td>-84.863588</td>\n      <td>-53.15</td>\n      <td>-70.92</td>\n      <td>51.39</td>\n      <td>71</td>\n      <td>100</td>\n      <td>17.22</td>\n    </tr>\n    <tr>\n      <th>28</th>\n      <td>2160735</td>\n      <td>lakes entrance</td>\n      <td>au</td>\n      <td>-39.209145</td>\n      <td>150.629290</td>\n      <td>-37.88</td>\n      <td>147.98</td>\n      <td>62.01</td>\n      <td>57</td>\n      <td>95</td>\n      <td>1.01</td>\n    </tr>\n    <tr>\n      <th>29</th>\n      <td>5374920</td>\n      <td>morro bay</td>\n      <td>us</td>\n      <td>33.898427</td>\n      <td>-123.386532</td>\n      <td>35.37</td>\n      <td>-120.85</td>\n      <td>53.98</td>\n      <td>50</td>\n      <td>1</td>\n      <td>8.05</td>\n    </tr>\n    <tr>\n      <th>30</th>\n      <td>1263532</td>\n      <td>margherita</td>\n      <td>in</td>\n      <td>27.206064</td>\n      <td>95.951427</td>\n      <td>27.28</td>\n      <td>95.68</td>\n      <td>69.80</td>\n      <td>77</td>\n      <td>75</td>\n      <td>3.36</td>\n    </tr>\n    <tr>\n      <th>31</th>\n      <td>64814</td>\n      <td>bandarbeyla</td>\n      <td>so</td>\n      <td>7.097202</td>\n      <td>56.402911</td>\n      <td>9.49</td>\n      <td>50.81</td>\n      <td>78.80</td>\n      <td>67</td>\n      <td>0</td>\n      <td>5.21</td>\n    </tr>\n    <tr>\n      <th>32</th>\n      <td>1814093</td>\n      <td>dali</td>\n      <td>cn</td>\n      <td>25.006491</td>\n      <td>99.215176</td>\n      <td>25.70</td>\n      <td>100.18</td>\n      <td>66.92</td>\n      <td>17</td>\n      <td>0</td>\n      <td>5.55</td>\n    </tr>\n    <tr>\n      <th>33</th>\n      <td>3421765</td>\n      <td>nanortalik</td>\n      <td>gl</td>\n      <td>51.645251</td>\n      <td>-37.868415</td>\n      <td>60.14</td>\n      <td>-45.24</td>\n      <td>27.12</td>\n      <td>89</td>\n      <td>8</td>\n      <td>21.32</td>\n    </tr>\n    <tr>\n      <th>34</th>\n      <td>3693584</td>\n      <td>pimentel</td>\n      <td>pe</td>\n      <td>-7.956294</td>\n      <td>-81.491729</td>\n      <td>-6.84</td>\n      <td>-79.93</td>\n      <td>72.84</td>\n      <td>80</td>\n      <td>70</td>\n      <td>10.45</td>\n    </tr>\n    <tr>\n      <th>35</th>\n      <td>3933104</td>\n      <td>pangoa</td>\n      <td>pe</td>\n      <td>-11.220619</td>\n      <td>-73.399396</td>\n      <td>-12.12</td>\n      <td>-73.00</td>\n      <td>70.56</td>\n      <td>75</td>\n      <td>68</td>\n      <td>1.86</td>\n    </tr>\n    <tr>\n      <th>36</th>\n      <td>5866583</td>\n      <td>kodiak</td>\n      <td>us</td>\n      <td>52.462453</td>\n      <td>-154.742316</td>\n      <td>57.79</td>\n      <td>-152.41</td>\n      <td>37.40</td>\n      <td>32</td>\n      <td>1</td>\n      <td>9.17</td>\n    </tr>\n  </tbody>\n</table>\n</div>"
     },
     "metadata": {},
     "execution_count": 104
    }
   ],
   "source": [
    "city_data = pd.DataFrame(columns=['City ID', 'City', 'Country', 'Orig Lat', 'Orig Lon', 'Act Lat', 'Act Lon', 'Temperature (F)', 'Humidity', 'Cloudiness', 'Wind Speed'])\n",
    "\n",
    "city_data['City ID'] = city_ID\n",
    "city_data['City'] = cities\n",
    "city_data['Country'] = countries\n",
    "city_data['Orig Lat'] = orig_latitude\n",
    "city_data['Orig Lon'] = orig_longitude\n",
    "city_data['Act Lat'] = city_latitude\n",
    "city_data['Act Lon'] = city_longitude\n",
    "city_data['Temperature (F)'] = city_temp\n",
    "city_data['Humidity'] = city_humidity\n",
    "city_data['Cloudiness'] = city_clouds_pct\n",
    "city_data['Wind Speed'] = city_windspeed\n",
    "\n",
    "print('The total number of cities added is '+str(len(city_data)))\n",
    "\n",
    "city_data.to_csv('test_city_data')\n",
    "\n",
    "city_data"
   ]
  },
  {
   "cell_type": "code",
   "execution_count": null,
   "metadata": {},
   "outputs": [],
   "source": []
  },
  {
   "cell_type": "markdown",
   "metadata": {},
   "source": [
    "## Inspect the data and remove the cities where the humidity > 100%.\n",
    "----\n",
    "Skip this step if there are no cities that have humidity > 100%. "
   ],
   "execution_count": null,
   "outputs": []
  },
  {
   "cell_type": "code",
   "execution_count": null,
   "metadata": {},
   "outputs": [],
   "source": []
  },
  {
   "cell_type": "code",
   "execution_count": 105,
   "metadata": {},
   "outputs": [],
   "source": [
    "#  Get the indices of cities that have humidity over 100%.\n",
    ""
   ]
  },
  {
   "cell_type": "code",
   "execution_count": 106,
   "metadata": {},
   "outputs": [],
   "source": [
    "# Make a new DataFrame equal to the city data to drop all humidity outliers by index.\n",
    "# Passing \"inplace=False\" will make a copy of the city_data DataFrame, which we call \"clean_city_data\".\n",
    ""
   ]
  },
  {
   "cell_type": "code",
   "execution_count": 107,
   "metadata": {},
   "outputs": [],
   "source": [
    "# Extract relevant fields from the data frame\n",
    "\n",
    "\n",
    "# Export the City_Data into a csv\n",
    ""
   ]
  },
  {
   "cell_type": "markdown",
   "metadata": {},
   "source": [
    "## Plotting the Data\n",
    "* Use proper labeling of the plots using plot titles (including date of analysis) and axes labels.\n",
    "* Save the plotted figures as .pngs."
   ],
   "execution_count": null,
   "outputs": []
  },
  {
   "cell_type": "markdown",
   "metadata": {},
   "source": [
    "## Latitude vs. Temperature Plot"
   ],
   "execution_count": null,
   "outputs": []
  },
  {
   "cell_type": "code",
   "execution_count": null,
   "metadata": {
    "scrolled": true
   },
   "outputs": [],
   "source": []
  },
  {
   "cell_type": "markdown",
   "metadata": {},
   "source": [
    "## Latitude vs. Humidity Plot"
   ],
   "execution_count": null,
   "outputs": []
  },
  {
   "cell_type": "code",
   "execution_count": null,
   "metadata": {},
   "outputs": [],
   "source": []
  },
  {
   "cell_type": "markdown",
   "metadata": {},
   "source": [
    "## Latitude vs. Cloudiness Plot"
   ],
   "execution_count": null,
   "outputs": []
  },
  {
   "cell_type": "code",
   "execution_count": null,
   "metadata": {},
   "outputs": [],
   "source": []
  },
  {
   "cell_type": "markdown",
   "metadata": {},
   "source": [
    "## Latitude vs. Wind Speed Plot"
   ],
   "execution_count": null,
   "outputs": []
  },
  {
   "cell_type": "code",
   "execution_count": null,
   "metadata": {},
   "outputs": [],
   "source": []
  },
  {
   "cell_type": "markdown",
   "metadata": {},
   "source": [
    "## Linear Regression"
   ],
   "execution_count": null,
   "outputs": []
  },
  {
   "cell_type": "code",
   "execution_count": 108,
   "metadata": {},
   "outputs": [],
   "source": [
    "# OPTIONAL: Create a function to create Linear Regression plots"
   ]
  },
  {
   "cell_type": "code",
   "execution_count": 109,
   "metadata": {},
   "outputs": [],
   "source": [
    "# Create Northern and Southern Hemisphere DataFrames"
   ]
  },
  {
   "cell_type": "markdown",
   "metadata": {},
   "source": [
    "####  Northern Hemisphere - Max Temp vs. Latitude Linear Regression"
   ],
   "execution_count": null,
   "outputs": []
  },
  {
   "cell_type": "code",
   "execution_count": null,
   "metadata": {},
   "outputs": [],
   "source": []
  },
  {
   "cell_type": "markdown",
   "metadata": {},
   "source": [
    "####  Southern Hemisphere - Max Temp vs. Latitude Linear Regression"
   ],
   "execution_count": null,
   "outputs": []
  },
  {
   "cell_type": "code",
   "execution_count": null,
   "metadata": {},
   "outputs": [],
   "source": []
  },
  {
   "cell_type": "markdown",
   "metadata": {},
   "source": [
    "####  Northern Hemisphere - Humidity (%) vs. Latitude Linear Regression"
   ],
   "execution_count": null,
   "outputs": []
  },
  {
   "cell_type": "code",
   "execution_count": null,
   "metadata": {},
   "outputs": [],
   "source": []
  },
  {
   "cell_type": "markdown",
   "metadata": {},
   "source": [
    "####  Southern Hemisphere - Humidity (%) vs. Latitude Linear Regression"
   ],
   "execution_count": null,
   "outputs": []
  },
  {
   "cell_type": "code",
   "execution_count": null,
   "metadata": {},
   "outputs": [],
   "source": []
  },
  {
   "cell_type": "markdown",
   "metadata": {},
   "source": [
    "####  Northern Hemisphere - Cloudiness (%) vs. Latitude Linear Regression"
   ],
   "execution_count": null,
   "outputs": []
  },
  {
   "cell_type": "code",
   "execution_count": null,
   "metadata": {},
   "outputs": [],
   "source": []
  },
  {
   "cell_type": "markdown",
   "metadata": {},
   "source": [
    "####  Southern Hemisphere - Cloudiness (%) vs. Latitude Linear Regression"
   ],
   "execution_count": null,
   "outputs": []
  },
  {
   "cell_type": "code",
   "execution_count": null,
   "metadata": {},
   "outputs": [],
   "source": []
  },
  {
   "cell_type": "markdown",
   "metadata": {},
   "source": [
    "####  Northern Hemisphere - Wind Speed (mph) vs. Latitude Linear Regression"
   ],
   "execution_count": null,
   "outputs": []
  },
  {
   "cell_type": "code",
   "execution_count": null,
   "metadata": {},
   "outputs": [],
   "source": []
  },
  {
   "cell_type": "markdown",
   "metadata": {},
   "source": [
    "####  Southern Hemisphere - Wind Speed (mph) vs. Latitude Linear Regression"
   ],
   "execution_count": null,
   "outputs": []
  },
  {
   "cell_type": "code",
   "execution_count": null,
   "metadata": {},
   "outputs": [],
   "source": []
  },
  {
   "cell_type": "code",
   "execution_count": null,
   "metadata": {},
   "outputs": [],
   "source": []
  }
 ],
 "metadata": {
  "anaconda-cloud": {},
  "kernel_info": {
   "name": "python3"
  },
  "kernelspec": {
   "display_name": "Python 3.6.10 64-bit ('PythonData': conda)",
   "language": "python",
   "name": "python361064bitpythondatacondaab47c43dfe824d4eb95e9e8f15b48370"
  },
  "language_info": {
   "codemirror_mode": {
    "name": "ipython",
    "version": 3
   },
   "file_extension": ".py",
   "mimetype": "text/x-python",
   "name": "python",
   "nbconvert_exporter": "python",
   "pygments_lexer": "ipython3",
   "version": "3.6.10-final"
  },
  "latex_envs": {
   "LaTeX_envs_menu_present": true,
   "autoclose": false,
   "autocomplete": true,
   "bibliofile": "biblio.bib",
   "cite_by": "apalike",
   "current_citInitial": 1,
   "eqLabelWithNumbers": true,
   "eqNumInitial": 1,
   "hotkeys": {
    "equation": "Ctrl-E",
    "itemize": "Ctrl-I"
   },
   "labels_anchors": false,
   "latex_user_defs": false,
   "report_style_numbering": false,
   "user_envs_cfg": false
  },
  "nteract": {
   "version": "0.12.3"
  }
 },
 "nbformat": 4,
 "nbformat_minor": 2
}
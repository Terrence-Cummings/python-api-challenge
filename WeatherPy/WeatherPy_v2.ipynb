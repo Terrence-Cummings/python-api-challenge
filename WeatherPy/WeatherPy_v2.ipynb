{
 "cells": [
  {
   "cell_type": "markdown",
   "metadata": {},
   "source": [
    "# WeatherPy\n"
   ],
   "execution_count": null,
   "outputs": []
  },
  {
   "cell_type": "code",
   "execution_count": null,
   "metadata": {
    "scrolled": true
   },
   "outputs": [],
   "source": [
    "# Dependencies and Setup\n",
    "import matplotlib.pyplot as plt\n",
    "import scipy.stats as st\n",
    "import pandas as pd\n",
    "import numpy as np\n",
    "import requests\n",
    "import time\n",
    "from scipy.stats import linregress\n",
    "import requests\n",
    "import json\n",
    "from pprint import pprint\n",
    "from datetime import datetime\n",
    "\n",
    "# Import API key\n",
    "from api_keys import weather_api_key\n",
    "\n",
    "# Incorporated citipy to determine city based on latitude and longitude\n",
    "from citipy import citipy\n",
    "\n",
    "# Output File (CSV)\n",
    "output_data_file = \"output_data/cities.csv\"\n",
    "\n",
    "# Range of latitudes and longitudes\n",
    "lat_range = (-90, 90)\n",
    "lng_range = (-180, 180)\n",
    "\n",
    "#Set todays date to include in plots\n",
    "dateTimeObj = datetime.now()\n",
    "timestampStr = dateTimeObj.strftime(\"%d-%b-%Y\")\n",
    ""
   ]
  },
  {
   "cell_type": "markdown",
   "metadata": {},
   "source": [
    "## Generate Cities List\n",
    "\n",
    "- Generate 1500 random latitude and longitude pairs\n",
    "- Use citypy to find the cities nearest those lat/long coordinates. Note this may result in the same city being nearest to more than one of the lat/long coords. In this case the city is ignored. So the final list of cities may be fewerr than the number of random lat/long coords generated.\n",
    "- Output is a list of cities with their country and the lat/long coords that produced that city from citipy. Note that these lat/long coords are not the actual lat/long coords of the city on a map. These will be found from the OpenWeather API in the nest step."
   ],
   "execution_count": null,
   "outputs": []
  },
  {
   "cell_type": "code",
   "execution_count": null,
   "metadata": {
    "tags": [
     "outputPrepend"
    ]
   },
   "outputs": [],
   "source": [
    "#Initialize empty lists for: Lat/Lng pairs, cities, countries, latitude, and longitude (the original pairs used to find the \"nearest city\"). Note this is NOT the actual lat/lng of the city, this is captured later from the OpenWeather API\n",
    "\n",
    "lat_lngs = []\n",
    "cities = []\n",
    "countries=[]\n",
    "orig_latitude=[]\n",
    "orig_longitude=[]\n",
    "\n",
    "\n",
    "# Create a set of random lat and lng combinations\n",
    "lats = np.random.uniform(lat_range[0], lat_range[1], size=1500)\n",
    "lngs = np.random.uniform(lng_range[0], lng_range[1], size=1500)\n",
    "\n",
    "#Zip lat and lon for use by citypy call\n",
    "lat_lngs = zip(lats, lngs)\n",
    "\n",
    "# Identify nearest city for each lat, lng combination using citipy\n",
    "for lat_lng in lat_lngs:\n",
    "    city = citipy.nearest_city(lat_lng[0], lat_lng[1]).city_name\n",
    "    country = citipy.nearest_city(lat_lng[0], lat_lng[1]).country_code\n",
    "    #Check to ensure no duplicates\n",
    "    if city not in cities:\n",
    "        cities.append(city)\n",
    "        countries.append(country)\n",
    "        orig_latitude.append(lat_lng[0])\n",
    "        orig_longitude.append(lat_lng[1])\n",
    "\n",
    "#Zip city, country, lat, lon for use in Open Weather API call together for use in city\n",
    "city_country_lat_lon = zip(cities, countries, orig_latitude, orig_longitude)"
   ]
  },
  {
   "cell_type": "markdown",
   "metadata": {},
   "source": [
    "### Perform API Calls\n",
    "\n",
    "- Use OpenWeather API to get the current weather for each city generated in the previous step.\n",
    "- Not all cites generated previously can be found in OpenWeather API. If response code is not 200 (meaning the city was not found) skip this city.\n",
    "- Create lists of all the relevant data for the cities that are found including:\n",
    "- City ID\n",
    "- City name\n",
    "- City country\n",
    "- Original Latitude which was used in citypy\n",
    "- Original Longitude which was used in city py\n",
    "- Current temperature from OpenWeather (in F)\n",
    "- Current humidity from OpenWeather\n",
    "- Current cloudiness from OpenWeather (in percent)\n",
    "- Current wind speed from OpenWeather\n",
    "- Actual latitude of the city from OpenWeather (to be used in plotting)\n",
    "- Actual Longitude of the city from OpenWeather (to be used in plotting)\n",
    "\n",
    "Since processing many API calls takes time, a progress indicator is printed out while the cities are being processed through OpenWeather API."
   ],
   "execution_count": null,
   "outputs": []
  },
  {
   "cell_type": "code",
   "execution_count": null,
   "metadata": {},
   "outputs": [],
   "source": [
    "#Example of OpenWeather API call http://api.openweathermap.org/data/2.5/weather?q=London,uk&APPID=973d76a9421d572f47622e44bcca1876\n",
    "#http://api.openweathermap.org/data/2.5/weather?q={city name},{state},{country code}&units=imperial&appid={your api key}\n",
    "\n",
    "\n",
    "#Initialize lists to capture the stats for each city\n",
    "city_ID=[]\n",
    "city_temp=[]\n",
    "city_humidity=[]\n",
    "city_clouds_pct=[]\n",
    "city_windspeed=[]\n",
    "\n",
    "#These are the actual lat and lon for the city (not those used in find the nearest city in citipy)\n",
    "city_latitude=[]\n",
    "city_longitude=[]\n",
    "cities = []\n",
    "countries=[]\n",
    "\n",
    "#These are the orig lat and lon used by citipy to find the nearest city. Captured just for comparison with the actual.\n",
    "orig_latitude=[]\n",
    "orig_longitude=[]\n",
    "\n",
    "#Loop through all the cities captured by citipy\n",
    "for city_loop, country_loop, lat_loop, lon_loop in city_country_lat_lon:\n",
    "    city_name = city_loop\n",
    "    country_name = country_loop\n",
    "    #Set the URL using the city, country, api key\n",
    "    url = 'http://api.openweathermap.org/data/2.5/weather?q='+city_name+',,'+country_name+'&units=imperial&appid='+weather_api_key\n",
    "    \n",
    "    #Capture the request from OpenWeather API\n",
    "    res = requests.get(url)\n",
    "    #Check to ensure the response is valid, if not go to the next item in the for loop\n",
    "    if res.status_code != 200:\n",
    "        #Print a progress indicator to the screen    \n",
    "        print(city_name+' not found at OpenWeather API!')\n",
    "        continue\n",
    "    #Capture the valid response in json\n",
    "    response = res.json()\n",
    "    #Print a progress indicator to the screen\n",
    "    print(str(response['id'])+\": \"+city_name+' found and added!')\n",
    "    \n",
    "    #Append values to all the various lists to capture the city data\n",
    "    city_ID.append(response['id'])\n",
    "    cities.append(city_name)\n",
    "    countries.append(country_name)\n",
    "    orig_latitude.append(lat_loop)\n",
    "    orig_longitude.append(lon_loop)\n",
    "    city_temp.append(response['main']['temp'])\n",
    "    city_humidity.append(response['main']['humidity'])\n",
    "    city_clouds_pct.append(response['clouds']['all'])\n",
    "    city_windspeed.append(response['wind']['speed'])\n",
    "    city_latitude.append(response['coord']['lat'])\n",
    "    city_longitude.append(response['coord']['lon'])\n",
    "\n",
    "#Print an indicator that the Open Weather API and data capture process has finished\n",
    "print('')\n",
    "print('FINISHED PROCESSING WEATHER APIs')"
   ]
  },
  {
   "cell_type": "markdown",
   "metadata": {},
   "source": [
    "### Convert Raw Data to DataFrame\n"
   ],
   "execution_count": null,
   "outputs": []
  },
  {
   "cell_type": "code",
   "execution_count": null,
   "metadata": {},
   "outputs": [],
   "source": [
    "#Build the dataframe of all the city records and data\n",
    "\n",
    "city_data = pd.DataFrame(columns=['City ID', 'City', 'Country', 'Orig Lat', 'Orig Lon', 'Act Lat', 'Act Lon', 'Temperature (F)', 'Humidity', 'Cloudiness', 'Wind Speed'])\n",
    "\n",
    "city_data['City ID'] = city_ID\n",
    "city_data['City'] = cities\n",
    "city_data['Country'] = countries\n",
    "city_data['Orig Lat'] = orig_latitude\n",
    "city_data['Orig Lon'] = orig_longitude\n",
    "city_data['Act Lat'] = city_latitude\n",
    "city_data['Act Lon'] = city_longitude\n",
    "city_data['Temperature (F)'] = city_temp\n",
    "city_data['Humidity'] = city_humidity\n",
    "city_data['Cloudiness'] = city_clouds_pct\n",
    "city_data['Wind Speed'] = city_windspeed\n",
    "\n",
    "city_data.set_index('City ID', inplace=True)\n",
    "#Print the dataframe to screen and csv file\n",
    "print('The total number of cities added is '+str(len(city_data)))\n",
    "city_data.head()"
   ]
  },
  {
   "cell_type": "code",
   "execution_count": null,
   "metadata": {},
   "outputs": [],
   "source": []
  },
  {
   "cell_type": "markdown",
   "metadata": {},
   "source": [
    "## Inspect the data and remove the cities where the humidity > 100%. Produce final clean city df without humidity outliers. Save as CSV.\n",
    "----\n"
   ],
   "execution_count": null,
   "outputs": []
  },
  {
   "cell_type": "code",
   "execution_count": null,
   "metadata": {},
   "outputs": [],
   "source": [
    "#  Get the indices of cities that have humidity over 100%.\n",
    "crazy_humid_cities = city_data.loc[city_data['Humidity']>100]\n",
    "\n",
    "# Make a new DataFrame equal to the city data to drop all humidity outliers by index.\n",
    "#make a copy of the city_data DataFrame, which we call \"clean_city_data\".\n",
    "clean_city_data = city_data.loc[city_data['Humidity']<=100]\n",
    "\n",
    "#Delete the Orig Lat and Orig Lon as these are not the actual lat and lon of the city. Delete Act Lon since plotting is on Act Lat. Keep the city, country, and ID fields.\n",
    "del clean_city_data['Orig Lat']\n",
    "del clean_city_data['Orig Lon']\n",
    "del clean_city_data['Act Lon']\n",
    "\n",
    "north_city_data = clean_city_data.loc[clean_city_data['Act Lat']>=0]\n",
    "south_city_data = clean_city_data.loc[clean_city_data['Act Lat']<0]\n",
    "\n",
    "# Export the City_Data and Clean_city_data into csv's\n",
    "city_data.to_csv('output_data/city_data.csv')\n",
    "clean_city_data.to_csv('output_data/clean_city_data.csv')\n",
    "\n",
    "clean_city_count = clean_city_data['City'].count()\n",
    "print(clean_city_count)\n",
    "clean_city_data.head()"
   ]
  },
  {
   "cell_type": "markdown",
   "metadata": {},
   "source": [
    "## Plotting the Data and Linear Regression\n",
    "* Use proper labeling of the plots using plot titles (including date of analysis) and axes labels.\n",
    "* Save the plotted figures as .pngs."
   ],
   "execution_count": null,
   "outputs": []
  },
  {
   "cell_type": "markdown",
   "metadata": {},
   "source": [
    "###Function to return scatter plot and optional linear regression plat and file path/name for saving"
   ],
   "execution_count": null,
   "outputs": []
  },
  {
   "cell_type": "code",
   "execution_count": null,
   "metadata": {},
   "outputs": [],
   "source": [
    "def get_line(x,y,x_name,y_name, incl_regress):\n",
    "    \n",
    "    ax1=[]\n",
    "    ax2=[]\n",
    "    city_count = x.count()\n",
    "    ax1=plt.scatter(x,y)\n",
    "    ax1=plt.title(f'{city_count} cities on {timestampStr}: {y_name} vs. {x_name}')\n",
    "    ax1=plt.xlabel(x_name)\n",
    "    ax1=plt.ylabel(f'{y_name}')\n",
    "\n",
    "    if incl_regress:\n",
    "        slope, intercept, rvalue, pvalue, stderr = st.linregress(x,y)\n",
    "        r_squared = rvalue**2\n",
    "        ax2=plt.plot(x, x*slope+intercept, color='red', label= 'Y= '+str(round(slope,2))+'*X + '+str(round(intercept,2))+' R2='+str(round(r_squared,2)))\n",
    "        ax2=plt.legend()\n",
    "    if min(x)<0:\n",
    "        if max(x)>0:\n",
    "            hem='Global'\n",
    "            ax1 = plt.xlim(-60, 90)\n",
    "        else:\n",
    "            hem='South'\n",
    "            ax1 = plt.xlim(-60, 0)\n",
    "    else:\n",
    "        hem='North'\n",
    "        ax = plt.xlim(0,90)\n",
    "    \n",
    "    png_file = 'output_data/'+y_name+'_'+x_name+'_'+hem+'.png'\n",
    "\n",
    "    return ax1, ax2, png_file"
   ]
  },
  {
   "cell_type": "markdown",
   "metadata": {},
   "source": [
    "## Latitude vs. Temperature Plot"
   ],
   "execution_count": null,
   "outputs": []
  },
  {
   "cell_type": "code",
   "execution_count": null,
   "metadata": {
    "scrolled": true
   },
   "outputs": [],
   "source": [
    "graph1, graph2, png_file = get_line(clean_city_data['Act Lat'], clean_city_data['Temperature (F)'], 'Latitude', 'Temperature (F)', False)\n",
    "plt.savefig(png_file)\n",
    "plt.show()"
   ]
  },
  {
   "cell_type": "markdown",
   "metadata": {},
   "source": [
    "## Latitude vs. Humidity Plot"
   ],
   "execution_count": null,
   "outputs": []
  },
  {
   "cell_type": "code",
   "execution_count": null,
   "metadata": {},
   "outputs": [],
   "source": [
    "graph1, graph2, png_file = get_line(clean_city_data['Act Lat'], clean_city_data['Humidity'], 'Latitude', 'Humidity', False)\n",
    "plt.savefig(png_file)\n",
    "plt.show()"
   ]
  },
  {
   "cell_type": "markdown",
   "metadata": {},
   "source": [
    "## Latitude vs. Cloudiness Plot"
   ],
   "execution_count": null,
   "outputs": []
  },
  {
   "cell_type": "code",
   "execution_count": null,
   "metadata": {},
   "outputs": [],
   "source": [
    "graph1, graph2, png_file = get_line(clean_city_data['Act Lat'], clean_city_data['Cloudiness'], 'Latitude', 'Cloudiness (%)', False)\n",
    "plt.savefig(png_file)\n",
    "plt.show()"
   ]
  },
  {
   "cell_type": "markdown",
   "metadata": {},
   "source": [
    "## Latitude vs. Wind Speed Plot"
   ],
   "execution_count": null,
   "outputs": []
  },
  {
   "cell_type": "code",
   "execution_count": null,
   "metadata": {},
   "outputs": [],
   "source": [
    "graph1, graph2, png_file = get_line(clean_city_data['Act Lat'], clean_city_data['Wind Speed'], 'Latitude', 'Wind Speed', False)\n",
    "plt.savefig(png_file)\n",
    "plt.show()"
   ]
  },
  {
   "cell_type": "markdown",
   "metadata": {},
   "source": [
    "## Northern Hemisphere - Latitude vs. Temperature Plot "
   ],
   "execution_count": null,
   "outputs": []
  },
  {
   "cell_type": "code",
   "execution_count": null,
   "metadata": {},
   "outputs": [],
   "source": [
    "graph1, graph2, png_file = get_line(north_city_data['Act Lat'], north_city_data['Temperature (F)'], 'Latitude', 'Temperature (F)', True)\n",
    "plt.savefig(png_file)\n",
    "plt.show()"
   ]
  },
  {
   "cell_type": "markdown",
   "metadata": {},
   "source": [
    "## Southern Hemisphere - Latitude vs. Temperature Plot "
   ],
   "execution_count": null,
   "outputs": []
  },
  {
   "cell_type": "code",
   "execution_count": null,
   "metadata": {},
   "outputs": [],
   "source": [
    "graph1, graph2, png_file = get_line(south_city_data['Act Lat'], south_city_data['Temperature (F)'], 'Latitude', 'Temperature (F)', True)\n",
    "plt.savefig(png_file)\n",
    "plt.show()"
   ]
  },
  {
   "cell_type": "markdown",
   "metadata": {},
   "source": [
    "####  Northern Hemisphere - Humidity (%) vs. Latitude Linear Regression"
   ],
   "execution_count": null,
   "outputs": []
  },
  {
   "cell_type": "code",
   "execution_count": null,
   "metadata": {},
   "outputs": [],
   "source": [
    "graph1, graph2, png_file = get_line(north_city_data['Act Lat'], north_city_data['Humidity'], 'Latitude', 'Humidity', True)\n",
    "plt.savefig(png_file)\n",
    "plt.show()"
   ]
  },
  {
   "cell_type": "markdown",
   "metadata": {},
   "source": [
    "####  Southern Hemisphere - Humidity (%) vs. Latitude Linear Regression"
   ],
   "execution_count": null,
   "outputs": []
  },
  {
   "cell_type": "code",
   "execution_count": null,
   "metadata": {},
   "outputs": [],
   "source": [
    "graph1, graph2, png_file = get_line(south_city_data['Act Lat'], south_city_data['Humidity'], 'Latitude', 'Humidity', True)\n",
    "plt.savefig(png_file)\n",
    "plt.show()"
   ]
  },
  {
   "cell_type": "markdown",
   "metadata": {},
   "source": [
    "####  Northern Hemisphere - Cloudiness (%) vs. Latitude Linear Regression"
   ],
   "execution_count": null,
   "outputs": []
  },
  {
   "cell_type": "code",
   "execution_count": null,
   "metadata": {},
   "outputs": [],
   "source": [
    "graph1, graph2, png_file = get_line(north_city_data['Act Lat'], north_city_data['Cloudiness'], 'Latitude', 'Cloudiness (%)', True)\n",
    "plt.savefig(png_file)\n",
    "plt.show()"
   ]
  },
  {
   "cell_type": "markdown",
   "metadata": {},
   "source": [
    "####  Southern Hemisphere - Cloudiness (%) vs. Latitude Linear Regression"
   ],
   "execution_count": null,
   "outputs": []
  },
  {
   "cell_type": "code",
   "execution_count": null,
   "metadata": {},
   "outputs": [],
   "source": [
    "graph1, graph2, png_file = get_line(south_city_data['Act Lat'], south_city_data['Cloudiness'], 'Latitude', 'Cloudiness (%)', True)\n",
    "plt.savefig(png_file)\n",
    "plt.show()"
   ]
  },
  {
   "cell_type": "markdown",
   "metadata": {},
   "source": [
    "####  Northern Hemisphere - Wind Speed (mph) vs. Latitude Linear Regression"
   ],
   "execution_count": null,
   "outputs": []
  },
  {
   "cell_type": "code",
   "execution_count": null,
   "metadata": {},
   "outputs": [],
   "source": [
    "graph1, graph2, png_file = get_line(north_city_data['Act Lat'], north_city_data['Wind Speed'], 'Latitude', 'Wind Speed', True)\n",
    "plt.savefig(png_file)\n",
    "plt.show()"
   ]
  },
  {
   "cell_type": "markdown",
   "metadata": {},
   "source": [
    "####  Southern Hemisphere - Wind Speed (mph) vs. Latitude Linear Regression"
   ],
   "execution_count": null,
   "outputs": []
  },
  {
   "cell_type": "code",
   "execution_count": null,
   "metadata": {},
   "outputs": [],
   "source": [
    "graph1, graph2, png_file = get_line(south_city_data['Act Lat'], south_city_data['Wind Speed'], 'Latitude', 'Wind Speed', True)\n",
    "plt.savefig(png_file)\n",
    "plt.show()"
   ]
  },
  {
   "cell_type": "code",
   "execution_count": null,
   "metadata": {},
   "outputs": [],
   "source": []
  }
 ],
 "metadata": {
  "anaconda-cloud": {},
  "kernel_info": {
   "name": "python3"
  },
  "kernelspec": {
   "display_name": "Python 3.6.10 64-bit ('PythonData': conda)",
   "language": "python",
   "name": "python361064bitpythondatacondaab47c43dfe824d4eb95e9e8f15b48370"
  },
  "language_info": {
   "codemirror_mode": {
    "name": "ipython",
    "version": 3
   },
   "file_extension": ".py",
   "mimetype": "text/x-python",
   "name": "python",
   "nbconvert_exporter": "python",
   "pygments_lexer": "ipython3",
   "version": "3.6.10-final"
  },
  "latex_envs": {
   "LaTeX_envs_menu_present": true,
   "autoclose": false,
   "autocomplete": true,
   "bibliofile": "biblio.bib",
   "cite_by": "apalike",
   "current_citInitial": 1,
   "eqLabelWithNumbers": true,
   "eqNumInitial": 1,
   "hotkeys": {
    "equation": "Ctrl-E",
    "itemize": "Ctrl-I"
   },
   "labels_anchors": false,
   "latex_user_defs": false,
   "report_style_numbering": false,
   "user_envs_cfg": false
  },
  "nteract": {
   "version": "0.12.3"
  }
 },
 "nbformat": 4,
 "nbformat_minor": 2
}